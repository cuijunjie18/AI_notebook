{
 "cells": [
  {
   "cell_type": "markdown",
   "metadata": {},
   "source": [
    "### 本代码块将介绍物体检测入门"
   ]
  },
  {
   "cell_type": "markdown",
   "metadata": {},
   "source": [
    "物体检测的关键工具就是颜色空间变化  \n",
    "即**cv2.cvtColor()函数**<br>\n",
    "常用的变化一般只有两个:\n",
    "<ol>\n",
    "<strong>\n",
    "<li>cv2.COLOR_BGR2BGRA</li>\n",
    "<li>cv2.COLOR_BGR2HSV</li>\n",
    "</ol>"
   ]
  },
  {
   "cell_type": "markdown",
   "metadata": {},
   "source": [
    "### 物体跟踪入门基本步骤  \n",
    "现在我们知道怎样将一幅图像从 BGR 转换到 HSV 了，我们可以利用这  \n",
    "一点来提取带有某个特定颜色的物体。在 HSV 颜色空间中要比在 BGR 空间  \n",
    "中更容易表示一个特定颜色。在我们的程序中，我们要提取的是一个蓝色的物  \n",
    "体。下面就是就是我们要做的几步： <strong> \n",
    "1. • 从视频中获取每一帧图像\n",
    "2. • 将图像转换到 HSV 空间\n",
    "3. • 设置 HSV 阈值到蓝色范围。\n",
    "4. • 获取蓝色物体，当然我们还可以做其他任何我们想做的事，比如：在蓝色  \n",
    "      物体周围画一个圈。\n"
   ]
  },
  {
   "cell_type": "code",
   "execution_count": 2,
   "metadata": {},
   "outputs": [
    {
     "name": "stdout",
     "output_type": "stream",
     "text": [
      "(3,)\n",
      "(1, 1, 3)\n",
      "[[[176 138 152]]]\n",
      "[[[166 100 100]]]\n",
      "[[[186 255 255]]]\n"
     ]
    }
   ],
   "source": [
    "#以红笔为例 两个主要rgb值(152,70,82),(141,71,87)\n",
    "\n",
    "import cv2\n",
    "import numpy as np\n",
    "import matplotlib.pyplot as plt\n",
    "\n",
    "#展示函数\n",
    "def show(img,title = 'Track'):\n",
    "    cv2.imshow(title,img)\n",
    "    cv2.waitKey(0)\n",
    "    cv2.destroyAllWindows()\n",
    "\n",
    "#根据给定HSV图像确定上下界HSV\n",
    "def cvt_hsv(hsv):\n",
    "    b = hsv[0][0][0]\n",
    "    l_hsv = np.uint8([[[b-10,100,100]]])\n",
    "    h_hsv = np.uint8([[[b+10,255,255]]])\n",
    "    ans = [l_hsv,h_hsv]\n",
    "    return ans\n",
    "\n",
    "pen = cv2.imread('images/red_pen.jpg')\n",
    "\n",
    "#先要确定被追踪对象的HSV值,直接用cvt函数\n",
    "#因为彩色转换只能对(w,h,3)图像生效\n",
    "#错误写法\n",
    "track_color = np.uint8([82,70,152])#注意opencv是默认是BGR\n",
    "print(track_color.shape)\n",
    "\n",
    "#正确写法\n",
    "track_color = np.uint8([[[82,70,152]]])\n",
    "print(track_color.shape)\n",
    "track_hsv = cv2.cvtColor(track_color,cv2.COLOR_BGR2HSV)\n",
    "print(track_hsv)\n",
    "\n",
    "#以hsv设定hsv颜色空间对应物体的阈值\n",
    "l_hsv,h_hsv = cvt_hsv(track_hsv)\n",
    "print(l_hsv)\n",
    "print(h_hsv)\n",
    "\n",
    "#开始进行物体追踪\n",
    "cap = cv2.VideoCapture(0)\n",
    "if cap.isOpened() == False:\n",
    "    print('Error')\n",
    "\n",
    "while(True):\n",
    "    ret,frame = cap.read()\n",
    "    if ret == False:\n",
    "        break\n",
    "    hsv = cv2.cvtColor(frame,cv2.COLOR_BGR2HSV)\n",
    "\n",
    "    #难点1:暂时无法理解原理\n",
    "    #根据阈值建立掩膜(可以理解为返回接收了一个阈值图像,即满足特定阈值范围的才显示)\n",
    "    mask = cv2.inRange(hsv,l_hsv,h_hsv)\n",
    "\n",
    "    #难点2:对原图像与掩膜进行位运算\n",
    "    res = cv2.bitwise_and(frame,frame,mask = mask)\n",
    "\n",
    "    #out = np.hstack([frame,mask,res])\n",
    "    cv2.imshow('Origin',frame)\n",
    "    cv2.imshow('Mask',mask)\n",
    "    cv2.imshow('Track',res)\n",
    "    if cv2.waitKey(10)&0xFF == ord('q'):\n",
    "        break\n",
    "\n",
    "cap.release()\n",
    "cv2.destroyAllWindows()\n"
   ]
  },
  {
   "cell_type": "markdown",
   "metadata": {},
   "source": [
    "## HSV颜色模型的理解\n",
    "HSV颜色空间\n",
    "\n",
    "HSV颜色空间由三个分量组成：**色相（Hue）、饱和度（Saturation）和明度（Value）**。通过调整这些分量的值，我们可以选择特定的颜色范围，HSV具体含义如下：\n",
    "\n",
    "**色相（Hue）**：色相值表示颜色在颜色轮上的位置。不同的颜色在色相上有不同的取值范围。例如，红色的色相值约为0-10或160-180，蓝色的色相值约为110-130，绿色的色相值约为50-70。根据所需识别的颜色，选择相应的色相范围。\n",
    "\n",
    "**饱和度（Saturation）**：饱和度值表示颜色的纯度或鲜艳程度。较高的饱和度值表示颜色更加鲜艳，而较低的饱和度值表示颜色较为灰暗。根据实际场景中颜色的饱和度，选择适当的饱和度范围。\n",
    "\n",
    "**明度（Value）**：明度值表示颜色的亮度或明暗程度。较高的明度值表示颜色较亮，而较低的明度值表示颜色较暗。根据实际场景中颜色的明度，选择适当的明度范围。\n",
    "\n",
    "这些值是根据经验和实验进行调整的，以获得最佳的颜色识别效果。我们可以根据具体的应用场景和需求进行调整，以适应不同的颜色识别任务。在实际使用中，我们可能需要进行多次尝试和调整，以找到最适合需求的颜色范围。\n",
    "\n",
    "对于每种颜色（红色、蓝色和绿色），我们使用np.array()函数创建了一个包含三个元素的NumPy数组。这些元素分别代表HSV颜色空间中的色相、饱和度和明度的下限和上限。\n",
    "————————————————\n",
    "\n",
    "                版权声明：本文为博主原创文章，遵循 CC 4.0 BY-SA 版权协议，转载请附上原文出处链接和本声明。  \n",
    "                原文链接:https://blog.csdn.net/m0_73629902/article/details/136034641"
   ]
  },
  {
   "cell_type": "markdown",
   "metadata": {},
   "source": [
    "### 掩膜的理解\n",
    "在进行颜色识别时，我们通过创建掩膜的方法来将图像进行**二值化**，即非黑即白，通过创建颜色掩膜，  \n",
    "可以将图像中的特定颜色范围提取出来，让摄像头对目标颜色更为敏感。\n",
    "\n",
    "具体做法为:**我们使用cv2.inRange()函数来创建颜色掩膜。它会根据指定的颜色范围，将图像中在范围内的像素设置为255（白色），而其他像素则设置为0（黑色）**"
   ]
  },
  {
   "cell_type": "markdown",
   "metadata": {},
   "source": []
  },
  {
   "cell_type": "code",
   "execution_count": 15,
   "metadata": {},
   "outputs": [
    {
     "name": "stdout",
     "output_type": "stream",
     "text": [
      "[[[166 100 100]]] [[[186 255 255]]]\n",
      "[[[ 20 100 100]]] [[[ 40 255 255]]]\n"
     ]
    }
   ],
   "source": [
    "#根据上面代码进行增强,即上面只用了一个红笔颜色,现在加上两种主要的\n",
    "#两个主要rgb值深:(152,70,82),浅:(141,71,87),(123,65,77),灰色:(158,158,156)\n",
    "\n",
    "import cv2\n",
    "import matplotlib.pyplot as plt\n",
    "import numpy as np\n",
    "\n",
    "def cvt_hsv(hsv):\n",
    "    b = hsv[0][0][0]\n",
    "    l_hsv = np.uint8([[[b-10,100,100]]])\n",
    "    h_hsv = np.uint8([[[b+10,255,255]]])\n",
    "    ans = [l_hsv,h_hsv]\n",
    "    return ans\n",
    "\n",
    "bgr1 = np.array([[[82,70,152]]],np.uint8)\n",
    "bgr2 = np.array([[[156,158,158]]],np.uint8)\n",
    "\n",
    "hsv1 = cv2.cvtColor(bgr1,cv2.COLOR_BGR2HSV)\n",
    "hsv2 = cv2.cvtColor(bgr2,cv2.COLOR_BGR2HSV)\n",
    "\n",
    "l_hsv1,h_hsv1 = cvt_hsv(hsv1)\n",
    "l_hsv2,h_hsv2 = cvt_hsv(hsv2)\n",
    "print(l_hsv1,h_hsv1)\n",
    "print(l_hsv2,h_hsv2)\n",
    "\n",
    "cap = cv2.VideoCapture(0)\n",
    "\n",
    "if cap.isOpened() == False:\n",
    "    print('Error!')\n",
    "\n",
    "while(True):\n",
    "    ret,frame = cap.read()\n",
    "    hsv = cv2.cvtColor(frame,cv2.COLOR_BGR2HSV)\n",
    "\n",
    "    mask1 = cv2.inRange(hsv,l_hsv1,h_hsv1)\n",
    "    mask2 = cv2.inRange(hsv,l_hsv2,h_hsv2)\n",
    "\n",
    "    #进行cv2的图像加法(饱和操作)\n",
    "    mask = cv2.add(mask1,mask2)\n",
    "\n",
    "    res = cv2.bitwise_and(frame,frame,mask = mask)\n",
    "    cv2.imshow('Res',res)\n",
    "    if cv2.waitKey(10)&0xFF == 27:\n",
    "        break\n",
    "\n",
    "cap.release()\n",
    "cv2.destroyAllWindows()"
   ]
  }
 ],
 "metadata": {
  "kernelspec": {
   "display_name": "my_cv_env",
   "language": "python",
   "name": "python3"
  },
  "language_info": {
   "codemirror_mode": {
    "name": "ipython",
    "version": 3
   },
   "file_extension": ".py",
   "mimetype": "text/x-python",
   "name": "python",
   "nbconvert_exporter": "python",
   "pygments_lexer": "ipython3",
   "version": "3.12.1"
  }
 },
 "nbformat": 4,
 "nbformat_minor": 2
}
