{
 "cells": [
  {
   "cell_type": "markdown",
   "metadata": {},
   "source": [
    "本次代码块是对视频的处理"
   ]
  },
  {
   "cell_type": "code",
   "execution_count": 2,
   "metadata": {},
   "outputs": [],
   "source": [
    "#导入必要包\n",
    "import cv2\n",
    "import numpy as np\n",
    "import matplotlib.pyplot as plt"
   ]
  },
  {
   "cell_type": "code",
   "execution_count": 3,
   "metadata": {},
   "outputs": [],
   "source": [
    "#定义便利的函数\n",
    "def show(img,title = 'video'):\n",
    "    cv2.imshow(title,img)"
   ]
  },
  {
   "cell_type": "markdown",
   "metadata": {},
   "source": [
    "为了获取视频，你应该创建一个 VideoCapture 对象。<br>他的参数可以是\n",
    "设备的索引号，或者是一个视频文件"
   ]
  },
  {
   "cell_type": "code",
   "execution_count": 6,
   "metadata": {},
   "outputs": [],
   "source": [
    "#创建视频捕获器,是一个类\n",
    "cap = cv2.VideoCapture(0)#0为本地摄像头\n",
    "\n",
    "#检查cap是否有效,即是否捕获成功\n",
    "if cap.isOpened() == False:\n",
    "    print(\"Error!\")\n",
    "\n",
    "while(True):\n",
    "\n",
    "    #ret为bool型,frame为图片\n",
    "    ret,frame = cap.read()\n",
    "\n",
    "    #转灰度图\n",
    "    #frame = cv2.cvtColor(frame,cv2.COLOR_BGR2GRAY)\n",
    "\n",
    "    show(frame)\n",
    "    if cv2.waitKey(10)&0xFF == ord('q'):\n",
    "        break\n",
    "\n",
    "#最后不要忘了释放掉捕获器,防止占用内存\n",
    "cap.release()\n",
    "cv2.destroyAllWindows()\n"
   ]
  },
  {
   "cell_type": "code",
   "execution_count": 3,
   "metadata": {},
   "outputs": [],
   "source": [
    "#读取特定的视频\n",
    "cap = cv2.VideoCapture('images/test.mp4')\n",
    "\n",
    "if cap.isOpened() == False:\n",
    "    print(\"Error!\")\n",
    "\n",
    "while(True):\n",
    "    \n",
    "    ret,frame = cap.read()\n",
    "\n",
    "    #视频要判断结尾,否则会错误\n",
    "    if(ret == False):\n",
    "        break\n",
    "\n",
    "    #可以对视频进行灰度化\n",
    "    frame = cv2.cvtColor(frame,cv2.COLOR_BGR2GRAY)\n",
    "    show(frame)\n",
    "\n",
    "    #对于读取视频,waitkey()里的参数控制视频播放速度,越小越快\n",
    "    if cv2.waitKey(25)&0xFF == ord('q'):\n",
    "        break\n",
    "\n",
    "cap.release()\n",
    "cv2.destroyAllWindows()"
   ]
  },
  {
   "cell_type": "markdown",
   "metadata": {},
   "source": [
    "接下来是保存视频,相比读取会复杂"
   ]
  },
  {
   "cell_type": "code",
   "execution_count": 20,
   "metadata": {},
   "outputs": [
    {
     "name": "stdout",
     "output_type": "stream",
     "text": [
      "640.0 480.0\n"
     ]
    }
   ],
   "source": [
    "#创建读入与输出类\n",
    "\n",
    "cap = cv2.VideoCapture(0)\n",
    "\n",
    "#获取帧率\n",
    "fps = cap.get(cv2.CAP_PROP_FPS)\n",
    "#获取视频大小\n",
    "width = cap.get(cv2.CAP_PROP_FRAME_WIDTH)\n",
    "height = cap.get(cv2.CAP_PROP_FRAME_HEIGHT)\n",
    "print(width,height)\n",
    "#为输出类编码\n",
    "fourcc = cv2.VideoWriter_fourcc(*'XVID')\n",
    "\n",
    "#参数为路径,编码,帧率及大小\n",
    "#注意帧率和大小要匹配才能成功编码\n",
    "out = cv2.VideoWriter('saves/1.avi',fourcc,fps,(640,480))\n",
    "\n",
    "\n",
    "#检查cap是否有效,即是否捕获成功\n",
    "if cap.isOpened() == False:\n",
    "    print(\"Error!\")\n",
    "\n",
    "while(True):\n",
    "\n",
    "    #ret为bool型,frame为图片\n",
    "    ret,frame = cap.read()\n",
    "\n",
    "    #转灰度图\n",
    "    #frame = cv2.cvtColor(frame,cv2.COLOR_BGR2GRAY)\n",
    "\n",
    "    #记得写入\n",
    "    out.write(frame)\n",
    "\n",
    "    show(frame)\n",
    "    if cv2.waitKey(1)&0xFF == ord('q'):\n",
    "        break\n",
    "\n",
    "#最后不要忘了释放掉捕获器,防止占用内存\n",
    "cap.release()\n",
    "out.release()\n",
    "cv2.destroyAllWindows()"
   ]
  },
  {
   "cell_type": "code",
   "execution_count": 12,
   "metadata": {},
   "outputs": [
    {
     "name": "stdout",
     "output_type": "stream",
     "text": [
      "fps is 30.0\n",
      "codec is 16\n",
      "codec is \u0016\u0000\u0000\u0000\n"
     ]
    }
   ],
   "source": [
    "#得到捕获视频的编码格式\n",
    "import cv2\n",
    "  \n",
    "capture = cv2.VideoCapture(0)\n",
    "  \n",
    "#cv2.VideoCapture.get(CV_CAP_PROP_FORMAT)\n",
    "#获取帧率\n",
    "fps = capture.get(cv2.CAP_PROP_FPS)\n",
    "print ('fps is ' + str(fps))\n",
    "\n",
    "#获取编码格式\n",
    "codec = int(capture.get(cv2.CAP_PROP_FOURCC))\n",
    "print ('codec is %x'%(codec))\n",
    "print ('codec is ' + chr(codec&0xFF) + chr((codec>>8)&0xFF) + chr((codec>>16)&0xFF) + chr((codec>>24)&0xFF))\n",
    "\n",
    "#记得释放\n",
    "capture.release()\n",
    "cv2.destroyAllWindows()"
   ]
  }
 ],
 "metadata": {
  "kernelspec": {
   "display_name": "my_cv_env",
   "language": "python",
   "name": "python3"
  },
  "language_info": {
   "codemirror_mode": {
    "name": "ipython",
    "version": 3
   },
   "file_extension": ".py",
   "mimetype": "text/x-python",
   "name": "python",
   "nbconvert_exporter": "python",
   "pygments_lexer": "ipython3",
   "version": "3.12.1"
  }
 },
 "nbformat": 4,
 "nbformat_minor": 2
}
