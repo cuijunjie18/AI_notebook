{
 "cells": [
  {
   "cell_type": "markdown",
   "id": "2023adcd",
   "metadata": {},
   "source": [
    "**本节介绍多GPU相关操作**"
   ]
  }
 ],
 "metadata": {
  "kernelspec": {
   "display_name": ".venv",
   "language": "python",
   "name": "python3"
  },
  "language_info": {
   "name": "python",
   "version": "3.10.12"
  }
 },
 "nbformat": 4,
 "nbformat_minor": 5
}
