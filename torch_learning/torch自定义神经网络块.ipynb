{
 "cells": [
  {
   "cell_type": "markdown",
   "metadata": {},
   "source": [
    "### **本节介绍神经网络块** \n",
    "\n",
    "块是由层组成的，nn.sequential(Moudle,Moudle,....)就是一个块\n"
   ]
  },
  {
   "cell_type": "markdown",
   "metadata": {},
   "source": [
    "**一，下面来实现自定义块**"
   ]
  },
  {
   "cell_type": "code",
   "execution_count": 23,
   "metadata": {},
   "outputs": [],
   "source": [
    "# 导入包\n",
    "import numpy as np\n",
    "import torch\n",
    "from torch import nn\n",
    "from torch.nn import functional as F"
   ]
  },
  {
   "cell_type": "code",
   "execution_count": 24,
   "metadata": {},
   "outputs": [],
   "source": [
    "# nn.Sequential(nn.Linear(20,256),nn.ReLU(),nn.Linear(256,10))\n",
    "# 自定义块\n",
    "class MLP(nn.Module):\n",
    "    \"\"\"实现等价于nn.Sequential(nn.Linear(20,256),nn.ReLU(),nn.Linear(256,10))的块\"\"\"\n",
    "    def __init__(self):\n",
    "        super().__init__()\n",
    "        self.hidden = nn.Linear(20,256)\n",
    "        self.out = nn.Linear(256,10)\n",
    "\n",
    "    def forward(self,x):\n",
    "        \"\"\"我们只需要定义前向传播即可\"\"\"\n",
    "        return self.out(F.relu(self.hidden(x)))"
   ]
  },
  {
   "cell_type": "code",
   "execution_count": 25,
   "metadata": {},
   "outputs": [
    {
     "data": {
      "text/plain": [
       "tensor([[ 0.0660,  0.1153,  0.2344,  0.0596, -0.0332,  0.1688, -0.0112, -0.0604,\n",
       "          0.1044,  0.0620],\n",
       "        [ 0.0563,  0.0160,  0.2229, -0.0156, -0.1508,  0.1522,  0.0249, -0.1101,\n",
       "          0.1094, -0.0395]], grad_fn=<AddmmBackward0>)"
      ]
     },
     "execution_count": 25,
     "metadata": {},
     "output_type": "execute_result"
    }
   ],
   "source": [
    "net = MLP()\n",
    "x = torch.rand(2,20)\n",
    "net(x)"
   ]
  },
  {
   "cell_type": "markdown",
   "metadata": {},
   "source": [
    "**二，顺序块**"
   ]
  },
  {
   "cell_type": "code",
   "execution_count": 26,
   "metadata": {},
   "outputs": [],
   "source": [
    "# 下面实现自己的顺序块\n",
    "class MySequential(nn.Module):\n",
    "    \"\"\"手搓的nn.sequential\"\"\"\n",
    "    def __init__(self,*args):\n",
    "        super().__init__()\n",
    "        for idx,moudle in enumerate(args):\n",
    "            self._modules[str(idx)] = moudle # _modules内部的实现是一个有序字典\n",
    "\n",
    "    def forward(self,x):\n",
    "        # 有序字典确保了层的顺序访问(注意要访问字典的values,而非keys)\n",
    "        for block in self._modules.values():\n",
    "            x = block(x)\n",
    "        return x"
   ]
  },
  {
   "cell_type": "code",
   "execution_count": 27,
   "metadata": {},
   "outputs": [
    {
     "data": {
      "text/plain": [
       "tensor([[ 0.0591, -0.0725, -0.0099, -0.0648,  0.1009,  0.1441, -0.1680, -0.1707,\n",
       "          0.0236,  0.1026],\n",
       "        [ 0.1303, -0.0668, -0.0340, -0.0432,  0.0595,  0.0940, -0.1412, -0.1317,\n",
       "         -0.0146,  0.2491]], grad_fn=<AddmmBackward0>)"
      ]
     },
     "execution_count": 27,
     "metadata": {},
     "output_type": "execute_result"
    }
   ],
   "source": [
    "net = MySequential(nn.Linear(20,256),nn.ReLU(),nn.Linear(256,10))\n",
    "x = torch.rand(2,20)\n",
    "net(x)"
   ]
  },
  {
   "cell_type": "markdown",
   "metadata": {},
   "source": [
    "**三，在前向传播中添加执行代码**"
   ]
  },
  {
   "cell_type": "code",
   "execution_count": 39,
   "metadata": {},
   "outputs": [],
   "source": [
    "class Testnet(nn.Module):\n",
    "    \"\"\"实际中可能不会用，仅用作测试\"\"\"\n",
    "    def __init__(self):\n",
    "        super().__init__()\n",
    "        self.rand_weight = torch.rand(20,20,requires_grad = False)\n",
    "        self.linear = nn.Linear(20,20)\n",
    "\n",
    "    def forward(self,x):\n",
    "        print(\"Hello,World!\") # 嵌入自己的代码\n",
    "        x = x.mm(self.rand_weight) + 1\n",
    "        x = F.relu(x)\n",
    "        x = self.linear(x)\n",
    "        while x.abs().sum() > 1:\n",
    "            x /= 2\n",
    "        return x.sum()"
   ]
  },
  {
   "cell_type": "code",
   "execution_count": 40,
   "metadata": {},
   "outputs": [
    {
     "name": "stdout",
     "output_type": "stream",
     "text": [
      "Hello,World!\n"
     ]
    },
    {
     "data": {
      "text/plain": [
       "tensor(-0.2671, grad_fn=<SumBackward0>)"
      ]
     },
     "execution_count": 40,
     "metadata": {},
     "output_type": "execute_result"
    }
   ],
   "source": [
    "net = Testnet()\n",
    "x = torch.rand(2,20)\n",
    "net(x)"
   ]
  },
  {
   "cell_type": "markdown",
   "metadata": {},
   "source": [
    "**四，混合块**"
   ]
  },
  {
   "cell_type": "code",
   "execution_count": 43,
   "metadata": {},
   "outputs": [],
   "source": [
    "class NetCommbat(nn.Module):\n",
    "    def __init__(self):\n",
    "        super().__init__()\n",
    "        self.layer1 = nn.Sequential(\n",
    "            nn.Linear(20,20),nn.ReLU(),\n",
    "            nn.Linear(20,20),nn.ReLU(),\n",
    "        )\n",
    "        self.layer2 = nn.Linear(20,20)\n",
    "\n",
    "    def forward(self,x):\n",
    "        x = self.layer1(x)\n",
    "        x = F.relu(self.layer2(x))\n",
    "        return x"
   ]
  },
  {
   "cell_type": "code",
   "execution_count": 44,
   "metadata": {},
   "outputs": [
    {
     "name": "stdout",
     "output_type": "stream",
     "text": [
      "Hello,World!\n"
     ]
    },
    {
     "data": {
      "text/plain": [
       "tensor(0.1123, grad_fn=<SumBackward0>)"
      ]
     },
     "execution_count": 44,
     "metadata": {},
     "output_type": "execute_result"
    }
   ],
   "source": [
    "net = nn.Sequential(\n",
    "    NetCommbat(),\n",
    "    nn.Linear(20,20),\n",
    "    Testnet()\n",
    ")\n",
    "x = torch.rand(2,20)\n",
    "net(x)"
   ]
  }
 ],
 "metadata": {
  "kernelspec": {
   "display_name": "my_cv_env",
   "language": "python",
   "name": "python3"
  },
  "language_info": {
   "codemirror_mode": {
    "name": "ipython",
    "version": 3
   },
   "file_extension": ".py",
   "mimetype": "text/x-python",
   "name": "python",
   "nbconvert_exporter": "python",
   "pygments_lexer": "ipython3",
   "version": "3.12.1"
  }
 },
 "nbformat": 4,
 "nbformat_minor": 2
}
