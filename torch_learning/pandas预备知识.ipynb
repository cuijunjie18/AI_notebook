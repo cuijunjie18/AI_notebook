{
 "cells": [
  {
   "cell_type": "markdown",
   "metadata": {},
   "source": [
    "**本节介绍数据处理库——Pands的入门使用**"
   ]
  },
  {
   "cell_type": "code",
   "execution_count": 23,
   "metadata": {},
   "outputs": [],
   "source": [
    "# 导入包\n",
    "import pandas as pd\n",
    "import numpy as np"
   ]
  },
  {
   "cell_type": "markdown",
   "metadata": {},
   "source": [
    "**一，Pandas数据结构——Series**\n",
    "\n",
    "Series 是 Pandas 中的一种基本数据结构，类似于一维数组或列表，但具有标签（索引），使得数据在处理和分析时更具灵活性。"
   ]
  },
  {
   "cell_type": "code",
   "execution_count": 16,
   "metadata": {},
   "outputs": [
    {
     "name": "stdout",
     "output_type": "stream",
     "text": [
      "0    1\n",
      "1    2\n",
      "2    3\n",
      "dtype: int64\n"
     ]
    }
   ],
   "source": [
    "# 展示一下Series的结构，默认索引为0，1，2....\n",
    "a = [1, 2, 3]\n",
    "myvar = pd.Series(a)\n",
    "print(myvar)"
   ]
  },
  {
   "cell_type": "code",
   "execution_count": 17,
   "metadata": {},
   "outputs": [
    {
     "name": "stdout",
     "output_type": "stream",
     "text": [
      "3\n"
     ]
    }
   ],
   "source": [
    "# 单一索引\n",
    "print(myvar[2])"
   ]
  },
  {
   "cell_type": "code",
   "execution_count": 18,
   "metadata": {},
   "outputs": [
    {
     "name": "stdout",
     "output_type": "stream",
     "text": [
      "x    Google\n",
      "y    Runoob\n",
      "z      Wiki\n",
      "dtype: object\n"
     ]
    }
   ],
   "source": [
    "# 指定数据的索引，0，1，2 -> x，y，z\n",
    "a = [\"Google\", \"Runoob\", \"Wiki\"]\n",
    "myvar = pd.Series(a, index = [\"x\", \"y\", \"z\"])\n",
    "print(myvar)"
   ]
  },
  {
   "cell_type": "code",
   "execution_count": 19,
   "metadata": {},
   "outputs": [
    {
     "name": "stdout",
     "output_type": "stream",
     "text": [
      "Runoob\n",
      "Runoob\n"
     ]
    },
    {
     "name": "stderr",
     "output_type": "stream",
     "text": [
      "/tmp/ipykernel_38989/2350616445.py:3: FutureWarning: Series.__getitem__ treating keys as positions is deprecated. In a future version, integer keys will always be treated as labels (consistent with DataFrame behavior). To access a value by position, use `ser.iloc[pos]`\n",
      "  print(myvar[1])\n"
     ]
    }
   ],
   "source": [
    "# 单一索引\n",
    "print(myvar['y'])\n",
    "print(myvar[1]) # 默认索引依旧生效"
   ]
  },
  {
   "cell_type": "code",
   "execution_count": 20,
   "metadata": {},
   "outputs": [
    {
     "name": "stdout",
     "output_type": "stream",
     "text": [
      "1    Google\n",
      "2    Runoob\n",
      "3      Wiki\n",
      "dtype: object\n"
     ]
    }
   ],
   "source": [
    "# 用python字典创建Series\n",
    "sites = {1: \"Google\", 2: \"Runoob\", 3: \"Wiki\"}\n",
    "myvar = pd.Series(sites)\n",
    "print(myvar)\n",
    "\n",
    "# 字典的 key 变成了索引值!!!"
   ]
  },
  {
   "cell_type": "code",
   "execution_count": 21,
   "metadata": {},
   "outputs": [
    {
     "name": "stdout",
     "output_type": "stream",
     "text": [
      "1    Google\n",
      "2    Runoob\n",
      "dtype: object\n"
     ]
    }
   ],
   "source": [
    "# 截取一部分字典生成Series\n",
    "myvar = pd.Series(sites,index = [1,2])\n",
    "print(myvar)"
   ]
  },
  {
   "cell_type": "code",
   "execution_count": 24,
   "metadata": {},
   "outputs": [],
   "source": [
    "# 更多创建方法\n",
    "\n",
    "# 使用列表创建 Series\n",
    "s = pd.Series([1, 2, 3, 4])\n",
    "\n",
    "# 使用 NumPy 数组创建 Series\n",
    "s = pd.Series(np.array([1, 2, 3, 4]))\n",
    "\n",
    "# 使用字典创建 Series\n",
    "s = pd.Series({'a': 1, 'b': 2, 'c': 3, 'd': 4})\n"
   ]
  },
  {
   "cell_type": "code",
   "execution_count": 25,
   "metadata": {},
   "outputs": [
    {
     "name": "stdout",
     "output_type": "stream",
     "text": [
      "1\n",
      "Index: a, Value: 1\n",
      "Index: b, Value: 2\n",
      "Index: c, Value: 3\n",
      "Index: d, Value: 4\n",
      "a    1\n",
      "b    2\n",
      "c    3\n",
      "dtype: int64\n",
      "a    1\n",
      "b    2\n",
      "c    3\n",
      "dtype: int64\n"
     ]
    },
    {
     "name": "stderr",
     "output_type": "stream",
     "text": [
      "/tmp/ipykernel_38989/4159126658.py:6: FutureWarning: Series.__getitem__ treating keys as positions is deprecated. In a future version, integer keys will always be treated as labels (consistent with DataFrame behavior). To access a value by position, use `ser.iloc[pos]`\n",
      "  value = s[2]  # 获取索引为2的值\n"
     ]
    }
   ],
   "source": [
    "# 基本操作\n",
    "# 指定索引创建 Series\n",
    "s = pd.Series([1, 2, 3, 4], index=['a', 'b', 'c', 'd'])\n",
    "\n",
    "# 获取值\n",
    "value = s[2]  # 获取索引为2的值\n",
    "print(s['a'])  # 返回索引标签 'a' 对应的元素\n",
    "\n",
    "# 获取多个值\n",
    "subset = s[1:4]  # 获取索引为1到3的值\n",
    "\n",
    "# 使用自定义索引\n",
    "value = s['b']  # 获取索引为'b'的值\n",
    "\n",
    "# 索引和值的对应关系\n",
    "for index, value in s.items():\n",
    "    print(f\"Index: {index}, Value: {value}\")\n",
    "\n",
    "\n",
    "# 使用切片语法来访问 Series 的一部分\n",
    "print(s['a':'c'])  # 返回索引标签 'a' 到 'c' 之间的元素\n",
    "print(s[:3])  # 返回前三个元素\n",
    "\n",
    "# 为特定的索引标签赋值\n",
    "s['a'] = 10  # 将索引标签 'a' 对应的元素修改为 10\n",
    "\n",
    "# 通过赋值给新的索引标签来添加元素\n",
    "s['e'] = 5  # 在 Series 中添加一个新的元素，索引标签为 'e'\n",
    "\n",
    "# 使用 del 删除指定索引标签的元素。\n",
    "del s['a']  # 删除索引标签 'a' 对应的元素\n",
    "\n",
    "# 使用 drop 方法删除一个或多个索引标签，并返回一个新的 Series。\n",
    "s_dropped = s.drop(['b'])  # 返回一个删除了索引标签 'b' 的新 Series\n"
   ]
  },
  {
   "cell_type": "code",
   "execution_count": 31,
   "metadata": {},
   "outputs": [
    {
     "name": "stdout",
     "output_type": "stream",
     "text": [
      "int64\n",
      "(4,)\n",
      "4\n",
      "b    2\n",
      "c    3\n",
      "d    4\n",
      "e    5\n",
      "dtype: int64\n",
      "b    2\n",
      "c    3\n",
      "d    4\n",
      "e    5\n",
      "dtype: int64\n",
      "14\n",
      "3.5\n",
      "1.2909944487358056\n",
      "2\n",
      "5\n"
     ]
    }
   ],
   "source": [
    "# 基本属性与运算方法\n",
    "# 获取索引\n",
    "index = s.index\n",
    "\n",
    "# 获取值数组\n",
    "values = s.values\n",
    "\n",
    "# 获取描述统计信息\n",
    "stats = s.describe()\n",
    "\n",
    "# 获取最大值和最小值的索引\n",
    "max_index = s.idxmax()\n",
    "min_index = s.idxmin()\n",
    "\n",
    "# 其他属性和方法\n",
    "print(s.dtype)   # 数据类型\n",
    "print(s.shape)   # 形状\n",
    "print(s.size)    # 元素个数\n",
    "print(s.head())  # 前几个元素，默认是前 5 个\n",
    "print(s.tail())  # 后几个元素，默认是后 5 个\n",
    "print(s.sum())   # 求和\n",
    "print(s.mean())  # 平均值\n",
    "print(s.std())   # 标准差\n",
    "print(s.min())   # 最小值\n",
    "print(s.max())   # 最大值\n"
   ]
  },
  {
   "cell_type": "markdown",
   "metadata": {},
   "source": [
    "**二，Pandas数据结构——DataFrame**\n",
    "\n",
    "DataFrame 是 Pandas 中的另一个核心数据结构，用于表示二维表格型数据。\n",
    "\n",
    "DataFrame 是一个表格型的数据结构，它含有一组有序的列，每列可以是不同的值类型（数值、字符串、布尔型值）。\n",
    "\n",
    "DataFrame 既有行索引也有列索引，它可以被看做由 Series 组成的字典（共同用一个索引）。\n",
    "\n",
    "DataFrame 提供了各种功能来进行数据访问、筛选、分割、合并、重塑、聚合以及转换等操作。"
   ]
  },
  {
   "cell_type": "code",
   "execution_count": 33,
   "metadata": {},
   "outputs": [
    {
     "name": "stdout",
     "output_type": "stream",
     "text": [
      "     Site   Age\n",
      "0  Google  10.0\n",
      "1  Runoob  12.0\n",
      "2    Wiki  13.0\n"
     ]
    }
   ],
   "source": [
    "# 展示DataFrame的结构\n",
    "data = [['Google', 10], ['Runoob', 12], ['Wiki', 13]]\n",
    "\n",
    "# 创建DataFrame\n",
    "df = pd.DataFrame(data, columns=['Site', 'Age'])\n",
    "\n",
    "# 使用astype方法设置每列的数据类型\n",
    "df['Site'] = df['Site'].astype(str)\n",
    "df['Age'] = df['Age'].astype(float)\n",
    "\n",
    "print(df)\n",
    "\n",
    "# 发现有行索引也有列索引"
   ]
  },
  {
   "cell_type": "code",
   "execution_count": 34,
   "metadata": {},
   "outputs": [
    {
     "name": "stdout",
     "output_type": "stream",
     "text": [
      "     Site  Age\n",
      "0  Google   10\n",
      "1  Runoob   12\n",
      "2    Wiki   13\n"
     ]
    }
   ],
   "source": [
    "# 使用字典创建(1），先列后行\n",
    "data = {'Site':['Google', 'Runoob', 'Wiki'], 'Age':[10, 12, 13]}\n",
    "\n",
    "df = pd.DataFrame(data)\n",
    "\n",
    "print (df)"
   ]
  },
  {
   "cell_type": "code",
   "execution_count": 35,
   "metadata": {},
   "outputs": [
    {
     "name": "stdout",
     "output_type": "stream",
     "text": [
      "     Site Age\n",
      "0  Google  10\n",
      "1  Runoob  12\n",
      "2    Wiki  13\n"
     ]
    }
   ],
   "source": [
    "# 使用ndarray创建\n",
    "ndarray_data = np.array([\n",
    "    ['Google', 10],\n",
    "    ['Runoob', 12],\n",
    "    ['Wiki', 13]\n",
    "])\n",
    "\n",
    "# 使用DataFrame构造函数创建数据帧\n",
    "df = pd.DataFrame(ndarray_data, columns=['Site', 'Age'])\n",
    "\n",
    "# 打印数据帧\n",
    "print(df)"
   ]
  },
  {
   "cell_type": "code",
   "execution_count": 36,
   "metadata": {},
   "outputs": [
    {
     "name": "stdout",
     "output_type": "stream",
     "text": [
      "   a   b     c\n",
      "0  1   2   NaN\n",
      "1  5  10  20.0\n"
     ]
    }
   ],
   "source": [
    "# 使用字典列表创建(2)\n",
    "data = [{'a': 1, 'b': 2},{'a': 5, 'b': 10, 'c': 20}]\n",
    "\n",
    "df = pd.DataFrame(data)\n",
    "\n",
    "print (df)"
   ]
  },
  {
   "cell_type": "code",
   "execution_count": 37,
   "metadata": {},
   "outputs": [
    {
     "name": "stdout",
     "output_type": "stream",
     "text": [
      "calories    380\n",
      "duration     40\n",
      "Name: day2, dtype: int64\n"
     ]
    }
   ],
   "source": [
    "# 例子理解column与index的差异\n",
    "data = {\n",
    "  \"calories\": [420, 380, 390],\n",
    "  \"duration\": [50, 40, 45]\n",
    "}\n",
    "\n",
    "df = pd.DataFrame(data, index = [\"day1\", \"day2\", \"day3\"])\n",
    "\n",
    "# 指定索引\n",
    "print(df.loc[\"day2\"])"
   ]
  }
 ],
 "metadata": {
  "kernelspec": {
   "display_name": "pytorch",
   "language": "python",
   "name": "python3"
  },
  "language_info": {
   "codemirror_mode": {
    "name": "ipython",
    "version": 3
   },
   "file_extension": ".py",
   "mimetype": "text/x-python",
   "name": "python",
   "nbconvert_exporter": "python",
   "pygments_lexer": "ipython3",
   "version": "3.10.15"
  }
 },
 "nbformat": 4,
 "nbformat_minor": 2
}
