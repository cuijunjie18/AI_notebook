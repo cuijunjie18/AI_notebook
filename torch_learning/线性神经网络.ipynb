{
 "cells": [
  {
   "cell_type": "markdown",
   "metadata": {},
   "source": [
    "**本节介绍线性神经网络**\n"
   ]
  },
  {
   "cell_type": "code",
   "execution_count": 211,
   "metadata": {},
   "outputs": [],
   "source": [
    "# 导入包\n",
    "import torch\n",
    "import random\n",
    "import matplotlib.pyplot as plt\n",
    "import numpy as np"
   ]
  },
  {
   "cell_type": "markdown",
   "metadata": {},
   "source": [
    "一，仅使用torch中的自动微分与tensor的快速计算来实现训练线性网络"
   ]
  },
  {
   "cell_type": "code",
   "execution_count": 219,
   "metadata": {},
   "outputs": [
    {
     "name": "stdout",
     "output_type": "stream",
     "text": [
      "torch.Size([1000, 2]) torch.Size([1000, 1])\n"
     ]
    }
   ],
   "source": [
    "# 生成简单线性数据集\n",
    "def synthetic_data(w, b, num_examples):\n",
    "    \"\"\"生成y=Xw+b+噪声\"\"\"\n",
    "    X = torch.normal(0, 1, (num_examples, len(w)))\n",
    "    y = torch.matmul(X, w) + b\n",
    "    y += torch.normal(0, 0.01, y.shape)\n",
    "    return X, y.reshape((-1, 1))\n",
    "\n",
    "true_w = torch.tensor([2, -3.4])\n",
    "true_b = 4.2\n",
    "features, labels = synthetic_data(true_w, true_b, 1000)\n",
    "print(features.shape,labels.shape)"
   ]
  },
  {
   "cell_type": "code",
   "execution_count": 213,
   "metadata": {},
   "outputs": [
    {
     "data": {
      "image/png": "[encoded data removed]",
      "text/plain": [
       "<Figure size 640x480 with 1 Axes>"
      ]
     },
     "metadata": {},
     "output_type": "display_data"
    }
   ],
   "source": [
    "plt.scatter(features[:,1],labels)\n",
    "plt.show()"
   ]
  },
  {
   "cell_type": "markdown",
   "metadata": {},
   "source": [
    "**下面是我自己实现的训练，学习网络**"
   ]
  },
  {
   "cell_type": "code",
   "execution_count": 214,
   "metadata": {},
   "outputs": [
    {
     "name": "stdout",
     "output_type": "stream",
     "text": [
      "torch.Size([2, 1]) torch.Size([1])\n",
      "tensor([[ 0.0041],\n",
      "        [-0.0090]], requires_grad=True)\n"
     ]
    }
   ],
   "source": [
    "# 随机获取batch_size数据\n",
    "def get_batch(batch_size,features,labels):\n",
    "    num = len(features)\n",
    "    index = torch.randperm(num)\n",
    "    return features[index[:batch_size]],labels[index[:batch_size]]\n",
    "\n",
    "# 定义前向传播\n",
    "def forward(x):\n",
    "    return x.mm(train_w) + train_b\n",
    "\n",
    "# 定义损失函数\n",
    "def Square_loss(x,labels):\n",
    "    y = forward(x)\n",
    "    loss = (y - labels).pow(2).sum()\n",
    "    return loss\n",
    "\n",
    "train_w = torch.normal(0, 0.01, size=(2,1), requires_grad=True)\n",
    "train_b = torch.zeros(1, requires_grad=True)\n",
    "\n",
    "print(train_w.shape,train_b.shape)\n",
    "print(train_w)"
   ]
  },
  {
   "cell_type": "code",
   "execution_count": 215,
   "metadata": {},
   "outputs": [
    {
     "name": "stdout",
     "output_type": "stream",
     "text": [
      "loss = 403.633544921875 in epoch 0\n",
      "\n",
      "loss = 0.0006047318456694484 in epoch 1\n",
      "\n",
      "loss = 0.0009547993540763855 in epoch 2\n",
      "\n",
      "loss = 0.0014354396844282746 in epoch 3\n",
      "\n",
      "loss = 0.0018138709710910916 in epoch 4\n",
      "\n",
      "loss = 0.0013617458753287792 in epoch 5\n",
      "\n",
      "loss = 0.0007679100963287055 in epoch 6\n",
      "\n",
      "loss = 0.001016821595840156 in epoch 7\n",
      "\n",
      "loss = 0.0011300536571070552 in epoch 8\n",
      "\n",
      "loss = 0.0016990893054753542 in epoch 9\n",
      "\n"
     ]
    }
   ],
   "source": [
    "# 设置超参数\n",
    "train_times = 1000\n",
    "batch_size = 10\n",
    "learning_rate = 0.03\n",
    "\n",
    "for i in range(train_times):\n",
    "    features_batch,labels_batch = get_batch(batch_size,features,labels)\n",
    "    loss = Square_loss(features_batch,labels_batch)\n",
    "    if (i % 100 == 0):\n",
    "        print(f\"loss = {loss.sum()} in epoch {int(i/100)}\\n\")\n",
    "    # loss.sum().backward()\n",
    "    loss.backward()\n",
    "\n",
    "    with torch.no_grad():\n",
    "        train_w -= learning_rate * train_w.grad\n",
    "        train_b -= learning_rate * train_b.grad\n",
    "        train_w.grad.zero_()\n",
    "        train_b.grad.zero_()"
   ]
  },
  {
   "cell_type": "code",
   "execution_count": 216,
   "metadata": {},
   "outputs": [
    {
     "name": "stdout",
     "output_type": "stream",
     "text": [
      "w的估计误差: tensor([-0.0025, -0.0032], grad_fn=<SubBackward0>)\n",
      "b的估计误差: tensor([0.0059], grad_fn=<RsubBackward1>)\n"
     ]
    }
   ],
   "source": [
    "print(f'w的估计误差: {true_w - train_w.reshape(true_w.shape)}')\n",
    "print(f'b的估计误差: {true_b - train_b}')"
   ]
  },
  {
   "cell_type": "markdown",
   "metadata": {},
   "source": [
    "**收获：batch_size十分影响训练！！！**"
   ]
  },
  {
   "cell_type": "markdown",
   "metadata": {},
   "source": [
    "二，下面使用torch中的nn(Neural networks的缩写)API简化模型的建立"
   ]
  },
  {
   "cell_type": "code",
   "execution_count": 220,
   "metadata": {},
   "outputs": [],
   "source": [
    "from torch.utils import data\n",
    "# nn是神经网络的缩写\n",
    "from torch import nn\n",
    "\n",
    "net = nn.Sequential(nn.Linear(2, 1))\n"
   ]
  },
  {
   "cell_type": "code",
   "execution_count": 221,
   "metadata": {},
   "outputs": [],
   "source": [
    "def load_array(data_arrays, batch_size, is_train=True):  #@save\n",
    "    \"\"\"构造一个PyTorch数据迭代器\"\"\"\n",
    "    dataset = data.TensorDataset(*data_arrays)\n",
    "    return data.DataLoader(dataset, batch_size, shuffle=is_train)\n",
    "\n",
    "batch_size = 10\n",
    "data_iter = load_array((features, labels), batch_size)\n"
   ]
  },
  {
   "cell_type": "code",
   "execution_count": 225,
   "metadata": {},
   "outputs": [],
   "source": [
    "# 访问0层的权重参数\n",
    "net[0].weight.data.normal_(0, 0.01)\n",
    "net[0].bias.data.fill_(0)\n",
    "\n",
    "# 定义损失函数\n",
    "loss = nn.MSELoss()\n",
    "\n",
    "# 设置优化方法\n",
    "trainer = torch.optim.SGD(net.parameters(), lr=0.03)\n",
    "\n"
   ]
  },
  {
   "cell_type": "code",
   "execution_count": 226,
   "metadata": {},
   "outputs": [
    {
     "name": "stdout",
     "output_type": "stream",
     "text": [
      "epoch 1, loss 0.000290\n",
      "epoch 2, loss 0.000104\n",
      "epoch 3, loss 0.000103\n"
     ]
    }
   ],
   "source": [
    "num_epochs = 3\n",
    "for epoch in range(num_epochs):\n",
    "    for X, y in data_iter:\n",
    "        l = loss(net(X) ,y)\n",
    "        trainer.zero_grad()\n",
    "        l.backward()\n",
    "        trainer.step()\n",
    "    l = loss(net(features), labels)\n",
    "    print(f'epoch {epoch + 1}, loss {l:f}')\n",
    "\n"
   ]
  },
  {
   "cell_type": "code",
   "execution_count": 227,
   "metadata": {},
   "outputs": [
    {
     "name": "stdout",
     "output_type": "stream",
     "text": [
      "w的估计误差： tensor([0.0003, 0.0008])\n",
      "b的估计误差： tensor([6.1512e-05])\n"
     ]
    }
   ],
   "source": [
    "w = net[0].weight.data\n",
    "print('w的估计误差：', true_w - w.reshape(true_w.shape))\n",
    "b = net[0].bias.data\n",
    "print('b的估计误差：', true_b - b)\n"
   ]
  },
  {
   "cell_type": "markdown",
   "metadata": {},
   "source": [
    "**结论：发现nn实现神经网络非常方便，就像是在搭积木！**"
   ]
  }
 ],
 "metadata": {
  "kernelspec": {
   "display_name": "pytorch",
   "language": "python",
   "name": "python3"
  },
  "language_info": {
   "codemirror_mode": {
    "name": "ipython",
    "version": 3
   },
   "file_extension": ".py",
   "mimetype": "text/x-python",
   "name": "python",
   "nbconvert_exporter": "python",
   "pygments_lexer": "ipython3",
   "version": "3.10.15"
  }
 },
 "nbformat": 4,
 "nbformat_minor": 2
}
