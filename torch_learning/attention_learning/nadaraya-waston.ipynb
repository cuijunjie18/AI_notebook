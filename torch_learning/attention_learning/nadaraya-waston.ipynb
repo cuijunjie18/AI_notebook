{
 "cells": [
  {
   "cell_type": "markdown",
   "id": "99dfa880",
   "metadata": {},
   "source": [
    "### **本节介绍nadaraya-waston核回归**"
   ]
  },
  {
   "cell_type": "code",
   "execution_count": 21,
   "id": "6a721f37",
   "metadata": {},
   "outputs": [],
   "source": [
    "import torch\n",
    "from torch import nn\n",
    "from d2l import torch as d2l"
   ]
  },
  {
   "cell_type": "markdown",
   "id": "97dc6f63",
   "metadata": {},
   "source": [
    "**1、不带参数的注意力汇聚模型**\n",
    "\n",
    "$$\\begin{aligned} f(x) &=\\sum_{i=1}^n \\alpha(x, x_i) y_i\\\\ &= \\sum_{i=1}^n \\frac{\\exp\\left(-\\frac{1}{2}(x - x_i)^2\\right)}{\\sum_{j=1}^n \\exp\\left(-\\frac{1}{2}(x - x_j)^2\\right)} y_i \\\\&= \\sum_{i=1}^n \\mathrm{softmax}\\left(-\\frac{1}{2}(x - x_i)^2\\right) y_i. \\end{aligned}$$"
   ]
  },
  {
   "cell_type": "markdown",
   "id": "2c02eed5",
   "metadata": {},
   "source": [
    "**2、带参数的注意力汇聚模型**\n",
    "\n",
    "\n",
    "$$\\begin{aligned}f(x) &= \\sum_{i=1}^n \\alpha(x, x_i) y_i \\\\&= \\sum_{i=1}^n \\frac{\\exp\\left(-\\frac{1}{2}((x - x_i)w)^2\\right)}{\\sum_{j=1}^n \\exp\\left(-\\frac{1}{2}((x - x_j)w)^2\\right)} y_i \\\\&= \\sum_{i=1}^n \\mathrm{softmax}\\left(-\\frac{1}{2}((x - x_i)w)^2\\right) y_i.\\end{aligned}$$"
   ]
  },
  {
   "cell_type": "markdown",
   "id": "90e5e8d5",
   "metadata": {},
   "source": [
    "下面实现带参数的注意力汇聚模型"
   ]
  },
  {
   "cell_type": "code",
   "execution_count": 22,
   "id": "1d2cca84",
   "metadata": {},
   "outputs": [
    {
     "name": "stdout",
     "output_type": "stream",
     "text": [
      "a b c\n"
     ]
    }
   ],
   "source": [
    "def Test2(**kwargs):\n",
    "    print(*kwargs)\n",
    "\n",
    "def Test(**kwargs):\n",
    "    Test2(**kwargs)\n",
    "\n",
    "Test(a = 1,b = 2,c = 3)"
   ]
  },
  {
   "cell_type": "code",
   "execution_count": 23,
   "id": "bf3eccfa",
   "metadata": {},
   "outputs": [
    {
     "name": "stdout",
     "output_type": "stream",
     "text": [
      "tensor([0.6671]) torch.Size([1])\n",
      "tensor([0.3809]) torch.Size([1])\n"
     ]
    }
   ],
   "source": [
    "x = torch.rand(1)\n",
    "y = torch.rand((1,))\n",
    "print(x,x.shape)\n",
    "print(y,y.shape)"
   ]
  },
  {
   "cell_type": "markdown",
   "id": "68bcdbf8",
   "metadata": {},
   "source": [
    "**一、模型搭建**"
   ]
  },
  {
   "cell_type": "code",
   "execution_count": 24,
   "id": "643b568c",
   "metadata": {},
   "outputs": [],
   "source": [
    "class NWKernelRegression(nn.Module):\n",
    "    \"\"\"实现带参数的注意力汇聚模型\"\"\"\n",
    "    def __init__(self,**kwargs):\n",
    "        super().__init__(**kwargs)\n",
    "        self.w = nn.Parameter(torch.rand((1,),requires_grad = True))\n",
    "\n",
    "    def forward(self,queries:torch.Tensor,keys:torch.Tensor,values:torch.Tensor):\n",
    "        # queries和attention_weights的形状为(查询个数，“键－值”对个数)，即(batch_size,pair_size)\n",
    "        queries = queries.repeat_interleave(keys.shape[1]).reshape(-1,keys.shape[1])\n",
    "        self.attention_weights = nn.functional.softmax(\n",
    "            -((queries - keys)*self.w)**2 / 2,dim = 1\n",
    "        )\n",
    "        # values的形状为(查询个数，“键－值”对个数)，即batch_size\n",
    "        return torch.bmm(self.attention_weights.unsqueeze(1),values.unsqueeze(-1)).reshape(-1)"
   ]
  },
  {
   "cell_type": "markdown",
   "id": "c9a50830",
   "metadata": {},
   "source": [
    "**二、数据生成**"
   ]
  },
  {
   "cell_type": "code",
   "execution_count": 25,
   "id": "950a4a30",
   "metadata": {},
   "outputs": [
    {
     "name": "stdout",
     "output_type": "stream",
     "text": [
      "torch.Size([50]) torch.Size([50]) torch.Size([50]) torch.Size([50])\n"
     ]
    }
   ],
   "source": [
    "# 生成原始数据\n",
    "n_train = 50  # 训练样本数\n",
    "x_train, _ = torch.sort(torch.rand(n_train) * 5)   # 排序后的训练样本\n",
    "\n",
    "def f(x):\n",
    "    return 2 * torch.sin(x) + x**0.8\n",
    "\n",
    "y_train = f(x_train) + torch.normal(0.0, 0.5, (n_train,))  # 训练样本的输出\n",
    "x_test = torch.arange(0, 5, 0.1)  # 测试样本\n",
    "y_truth = f(x_test)  # 测试样本的真实输出\n",
    "n_test = len(x_test)  # 测试样本数\n",
    "\n",
    "print(x_train.shape,y_train.shape,x_test.shape,y_truth.shape)"
   ]
  },
  {
   "cell_type": "code",
   "execution_count": 26,
   "id": "934961d3",
   "metadata": {},
   "outputs": [
    {
     "name": "stdout",
     "output_type": "stream",
     "text": [
      "tensor([[0.2490, 0.4221, 0.5521,  ..., 4.5848, 4.6627, 4.8247],\n",
      "        [0.1138, 0.4221, 0.5521,  ..., 4.5848, 4.6627, 4.8247],\n",
      "        [0.1138, 0.2490, 0.5521,  ..., 4.5848, 4.6627, 4.8247],\n",
      "        ...,\n",
      "        [0.1138, 0.2490, 0.4221,  ..., 4.5839, 4.6627, 4.8247],\n",
      "        [0.1138, 0.2490, 0.4221,  ..., 4.5839, 4.5848, 4.8247],\n",
      "        [0.1138, 0.2490, 0.4221,  ..., 4.5839, 4.5848, 4.6627]])\n",
      "tensor([0.1138, 0.2490, 0.4221, 0.5521, 0.5680, 0.5773, 0.6867, 0.6904, 0.8125,\n",
      "        1.0273, 1.0744, 1.1721, 1.1784, 1.2399, 1.2490, 1.3213, 1.3717, 1.3723,\n",
      "        1.4681, 1.4846, 1.7147, 1.8924, 1.9858, 2.2714, 2.3413, 2.6346, 2.7195,\n",
      "        2.8305, 2.9244, 2.9384, 3.0815, 3.1142, 3.1419, 3.1775, 3.2472, 3.3060,\n",
      "        3.3272, 3.3629, 3.3963, 3.4405, 3.9049, 3.9583, 3.9615, 4.0721, 4.1487,\n",
      "        4.3731, 4.5839, 4.5848, 4.6627, 4.8247])\n",
      "keys:torch.Size([50, 49]),values:torch.Size([50, 49])\n"
     ]
    }
   ],
   "source": [
    "# 生成训练数据\n",
    "# X_tile的形状:(n_train，n_train)，每一行都包含着相同的训练输入\n",
    "X_tile = x_train.repeat((n_train, 1))\n",
    "# Y_tile的形状:(n_train，n_train)，每一行都包含着相同的训练输出\n",
    "Y_tile = y_train.repeat((n_train, 1))\n",
    "# keys的形状:('n_train'，'n_train'-1)\n",
    "keys = X_tile[(1 - torch.eye(n_train)).type(torch.bool)].reshape((n_train, -1))\n",
    "# values的形状:('n_train'，'n_train'-1)\n",
    "values = Y_tile[(1 - torch.eye(n_train)).type(torch.bool)].reshape((n_train, -1))\n",
    "print(keys)\n",
    "print(x_train)\n",
    "print(f\"keys:{keys.shape},values:{values.shape}\")"
   ]
  },
  {
   "cell_type": "code",
   "execution_count": 27,
   "id": "260299f4",
   "metadata": {},
   "outputs": [
    {
     "name": "stdout",
     "output_type": "stream",
     "text": [
      "tensor([[0.1138, 0.1138, 0.1138,  ..., 0.1138, 0.1138, 0.1138],\n",
      "        [0.2490, 0.2490, 0.2490,  ..., 0.2490, 0.2490, 0.2490],\n",
      "        [0.4221, 0.4221, 0.4221,  ..., 0.4221, 0.4221, 0.4221],\n",
      "        ...,\n",
      "        [4.5848, 4.5848, 4.5848,  ..., 4.5848, 4.5848, 4.5848],\n",
      "        [4.6627, 4.6627, 4.6627,  ..., 4.6627, 4.6627, 4.6627],\n",
      "        [4.8247, 4.8247, 4.8247,  ..., 4.8247, 4.8247, 4.8247]]) torch.Size([50, 49])\n",
      "tensor([[0.1138, 0.1138, 0.1138,  ..., 0.1138, 0.1138, 0.1138],\n",
      "        [0.2490, 0.2490, 0.2490,  ..., 0.2490, 0.2490, 0.2490],\n",
      "        [0.4221, 0.4221, 0.4221,  ..., 0.4221, 0.4221, 0.4221],\n",
      "        ...,\n",
      "        [4.5848, 4.5848, 4.5848,  ..., 4.5848, 4.5848, 4.5848],\n",
      "        [4.6627, 4.6627, 4.6627,  ..., 4.6627, 4.6627, 4.6627],\n",
      "        [4.8247, 4.8247, 4.8247,  ..., 4.8247, 4.8247, 4.8247]]) torch.Size([50, 49])\n"
     ]
    }
   ],
   "source": [
    "a = x_train.repeat_interleave(keys.shape[1]).reshape(-1,keys.shape[1])\n",
    "print(a,a.shape)\n",
    "b = a.reshape(-1,keys.shape[1])\n",
    "print(b,b.shape)"
   ]
  },
  {
   "cell_type": "code",
   "execution_count": 28,
   "id": "515276a7",
   "metadata": {},
   "outputs": [
    {
     "name": "stdout",
     "output_type": "stream",
     "text": [
      "torch.Size([50])\n"
     ]
    }
   ],
   "source": [
    "net = NWKernelRegression()\n",
    "output = net(x_train,keys,values)\n",
    "print(output.shape)"
   ]
  },
  {
   "cell_type": "code",
   "execution_count": 29,
   "id": "2d542409",
   "metadata": {},
   "outputs": [
    {
     "name": "stdout",
     "output_type": "stream",
     "text": [
      "<class 'torch.Tensor'> <class 'numpy.ndarray'>\n"
     ]
    }
   ],
   "source": [
    "x = torch.rand((1,3),requires_grad = True)\n",
    "print(type(x),type((x.detach().numpy())))"
   ]
  },
  {
   "cell_type": "markdown",
   "id": "60a2a6dc",
   "metadata": {},
   "source": [
    "**三、模型训练**"
   ]
  },
  {
   "cell_type": "code",
   "execution_count": 30,
   "id": "26efa05d",
   "metadata": {},
   "outputs": [],
   "source": [
    "def train(net,nums_epoch = 100):\n",
    "    loss = nn.MSELoss(reduction='none')\n",
    "    trainer = torch.optim.SGD(net.parameters(), lr=0.5)\n",
    "    net.train()\n",
    "    from tqdm import tqdm\n",
    "    loop = tqdm(range(nums_epoch),total = nums_epoch)\n",
    "    for i in loop:\n",
    "        trainer.zero_grad()\n",
    "        y_pred = net(x_train,keys,values)\n",
    "        l = loss(y_pred,y_train)\n",
    "        l.sum().backward()\n",
    "        trainer.step()\n",
    "        loop.set_description(f'Epoch [{i + 1}/{nums_epoch}]')\n",
    "        loop.set_postfix({\"LOSS\" : l.sum().item(),\"lr\" : \"{:e}\".format(0.5)})"
   ]
  },
  {
   "cell_type": "code",
   "execution_count": 31,
   "id": "a6427cba",
   "metadata": {},
   "outputs": [
    {
     "name": "stderr",
     "output_type": "stream",
     "text": [
      "Epoch [100/100]: 100%|██████████| 100/100 [00:00<00:00, 640.22it/s, LOSS=12, lr=5.000000e-01]\n"
     ]
    }
   ],
   "source": [
    "train(net)"
   ]
  },
  {
   "cell_type": "code",
   "execution_count": 32,
   "id": "4abea3ca",
   "metadata": {},
   "outputs": [],
   "source": [
    "net.eval()\n",
    "output = net(x_test,keys,values)"
   ]
  },
  {
   "cell_type": "code",
   "execution_count": 33,
   "id": "76418000",
   "metadata": {},
   "outputs": [
    {
     "data": {
      "image/png": "[encoded data removed]",
      "text/plain": [
       "<Figure size 640x480 with 1 Axes>"
      ]
     },
     "metadata": {},
     "output_type": "display_data"
    }
   ],
   "source": [
    "import numpy as np\n",
    "import matplotlib.pyplot as plt\n",
    "\n",
    "# plt.plot(np.arange(len(x_train.numpy())),y_train.numpy(),label = 'label')\n",
    "# plt.plot(np.arange(len(x_train.numpy())),output.detach().numpy(),label = 'pred')\n",
    "# plt.legend()\n",
    "# plt.show()\n",
    "# plt.plot(x_train.numpy(),y_train.numpy())\n",
    "plt.plot(x_test,y_truth,label = 'True_data')\n",
    "plt.plot(x_test,output.detach().numpy(),label = 'pred')\n",
    "plt.legend()\n",
    "plt.show()"
   ]
  }
 ],
 "metadata": {
  "kernelspec": {
   "display_name": ".venv",
   "language": "python",
   "name": "python3"
  },
  "language_info": {
   "codemirror_mode": {
    "name": "ipython",
    "version": 3
   },
   "file_extension": ".py",
   "mimetype": "text/x-python",
   "name": "python",
   "nbconvert_exporter": "python",
   "pygments_lexer": "ipython3",
   "version": "3.10.12"
  }
 },
 "nbformat": 4,
 "nbformat_minor": 5
}
