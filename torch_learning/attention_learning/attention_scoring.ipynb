{
 "cells": [
  {
   "cell_type": "markdown",
   "id": "0a6454db",
   "metadata": {},
   "source": [
    "### **本节介绍常用的attention评分函数**"
   ]
  },
  {
   "cell_type": "code",
   "execution_count": null,
   "id": "8f973c38",
   "metadata": {},
   "outputs": [],
   "source": [
    "import torch\n",
    "from torch import nn\n",
    "from d2l import torch as d2l"
   ]
  },
  {
   "cell_type": "markdown",
   "id": "e6fc1a0f",
   "metadata": {},
   "source": [
    "**一、带屏蔽的Softmax——masked_softmax**"
   ]
  },
  {
   "cell_type": "code",
   "execution_count": null,
   "id": "58020f0b",
   "metadata": {},
   "outputs": [],
   "source": [
    "def sequence_mask(X, valid_len, value=0): #@save\n",
    "    \"\"\"在序列中屏蔽不相关的项\"\"\"\n",
    "    maxlen = X.size(1)\n",
    "    mask = torch.arange((maxlen), dtype=torch.float32,\n",
    "                        device=X.device)[None, :] < valid_len[:, None]\n",
    "    # print(mask)\n",
    "    X[~mask] = value\n",
    "    return X\n",
    "\n",
    "def masked_softmax(X, valid_lens): #@save\n",
    "    \"\"\"通过在最后一个轴上掩蔽元素来执行softmax操作\"\"\"\n",
    "    # X:3D张量，valid_lens:1D或2D张量\n",
    "    if valid_lens is None:\n",
    "        return nn.functional.softmax(X, dim=-1)\n",
    "    else:\n",
    "        shape = X.shape\n",
    "        if valid_lens.dim() == 1:\n",
    "            valid_lens = torch.repeat_interleave(valid_lens, shape[1])\n",
    "        else:\n",
    "            valid_lens = valid_lens.reshape(-1)\n",
    "        # 最后一轴上被掩蔽的元素使用一个非常大的负值替换，从而其softmax输出为0\n",
    "        X = d2l.sequence_mask(X.reshape(-1, shape[-1]), valid_lens,\n",
    "                              value=-1e6)\n",
    "        return nn.functional.softmax(X.reshape(shape), dim=-1)"
   ]
  },
  {
   "cell_type": "code",
   "execution_count": null,
   "id": "725b7569",
   "metadata": {},
   "outputs": [],
   "source": [
    "batch_size,num_steps,vocab_size = 10,10,30\n",
    "X = torch.rand(batch_size,num_steps,vocab_size)\n",
    "valid_len = torch.randint(1,10,(batch_size,))"
   ]
  },
  {
   "cell_type": "code",
   "execution_count": null,
   "id": "45e27adc",
   "metadata": {},
   "outputs": [],
   "source": [
    "masked_softmax(torch.rand(2, 2, 4), torch.tensor([2, 3]))"
   ]
  },
  {
   "cell_type": "code",
   "execution_count": null,
   "id": "ef0fb709",
   "metadata": {},
   "outputs": [],
   "source": [
    "masked_softmax(torch.rand(2, 2, 4), torch.tensor([[1, 3], [2, 4]]))"
   ]
  },
  {
   "cell_type": "markdown",
   "id": "2636766b",
   "metadata": {},
   "source": [
    "**二、加性注意力**\n",
    "\n",
    "适用情况：当查询与键的长度不同时\n",
    "核心公式:\n",
    "$$\n",
    "a(\\mathbf q, \\mathbf k) = \\mathbf w_v^\\top \\text{tanh}(\\mathbf W_q\\mathbf q + \\mathbf W_k \\mathbf k) \\in \\mathbb{R}\n",
    "$$"
   ]
  },
  {
   "cell_type": "markdown",
   "id": "8db612ee",
   "metadata": {},
   "source": [
    "**我的理解**：\n",
    "通常q.shape = (batch_size,seq_length,feature_dim),k = (batch_size,seq_length,feature_dim)，其实这里的q、k理解为input序列.\n",
    "\n",
    "然后通过矩阵的线性变化转化为真正的query与key,query.shape与key.shape = (batch_size,seq_length,d_k),d_k可以不同，d_k理解为查询与键的值维度"
   ]
  },
  {
   "cell_type": "code",
   "execution_count": null,
   "id": "81dfe015",
   "metadata": {},
   "outputs": [],
   "source": [
    "class AdditiveAttention(nn.Module): #@save\n",
    "    \"\"\"加性注意力\"\"\"\n",
    "    def __init__(self, key_size, query_size, num_hiddens, dropout, **kwargs):\n",
    "        \"\"\"key_size,query_size其实为查询与键的特征值维度，注意不是个数\"\"\"\n",
    "        super(AdditiveAttention, self).__init__(**kwargs)\n",
    "        self.W_k = nn.Linear(key_size, num_hiddens, bias=False)\n",
    "        self.W_q = nn.Linear(query_size, num_hiddens, bias=False)\n",
    "        self.w_v = nn.Linear(num_hiddens, 1, bias=False)\n",
    "        self.dropout = nn.Dropout(dropout)\n",
    "\n",
    "    def forward(self, queries, keys, values, valid_lens):\n",
    "        queries, keys = self.W_q(queries), self.W_k(keys)\n",
    "        # 在维度扩展后，\n",
    "        # queries的形状：(batch_size，查询的个数，1，num_hidden)\n",
    "        # key的形状：(batch_size，1，“键－值”对的个数，num_hiddens)\n",
    "        # 使用广播方式进行求和\n",
    "        features = queries.unsqueeze(2) + keys.unsqueeze(1)\n",
    "        features = torch.tanh(features)\n",
    "        # self.w_v仅有一个输出，因此从形状中移除最后那个维度。\n",
    "        # scores的形状：(batch_size，查询的个数，“键-值”对的个数)\n",
    "        scores = self.w_v(features).squeeze(-1)\n",
    "        self.attention_weights = masked_softmax(scores, valid_lens)\n",
    "        # values的形状：(batch_size，“键－值”对的个数，值的维度)\n",
    "        return torch.bmm(self.dropout(self.attention_weights), values)"
   ]
  },
  {
   "cell_type": "code",
   "execution_count": null,
   "id": "58716e93",
   "metadata": {},
   "outputs": [],
   "source": [
    "queries, keys = torch.normal(0, 1, (2, 1, 20)), torch.ones((2, 10, 2))\n",
    "# values的小批量，两个值矩阵是相同的\n",
    "values = torch.arange(40, dtype=torch.float32).reshape(1, 10, 4).repeat(\n",
    "    2, 1, 1)\n",
    "valid_lens = torch.tensor([2, 6])\n",
    "\n",
    "attention = AdditiveAttention(key_size=2, query_size=20, num_hiddens=8,\n",
    "                              dropout=0.1)\n",
    "attention.eval()\n",
    "ans = attention(queries, keys, values, valid_lens)\n",
    "print(ans.shape)"
   ]
  },
  {
   "cell_type": "markdown",
   "id": "fd75af34",
   "metadata": {},
   "source": [
    "**三、缩放点积注意力**\n",
    "\n",
    "## [**缩放点积注意力**]\n",
    "\n",
    "使用点积可以得到计算效率更高的评分函数，\n",
    "但是点积操作要求查询和键具有相同的长度$d$。\n",
    "假设查询和键的所有元素都是独立的随机变量，\n",
    "并且都满足零均值和单位方差，\n",
    "那么两个向量的点积的均值为$0$，方差为$d$。\n",
    "为确保无论向量长度如何，\n",
    "点积的方差在不考虑向量长度的情况下仍然是$1$，\n",
    "我们再将点积除以$\\sqrt{d}$，\n",
    "则*缩放点积注意力*（scaled dot-product attention）评分函数为：\n",
    "\n",
    "$$a(\\mathbf q, \\mathbf k) = \\mathbf{q}^\\top \\mathbf{k}  /\\sqrt{d}.$$\n",
    "\n",
    "在实践中，我们通常从小批量的角度来考虑提高效率，\n",
    "例如基于$n$个查询和$m$个键－值对计算注意力，\n",
    "其中查询和键的长度为$d$，值的长度为$v$。\n",
    "查询$\\mathbf Q\\in\\mathbb R^{n\\times d}$、\n",
    "键$\\mathbf K\\in\\mathbb R^{m\\times d}$和\n",
    "值$\\mathbf V\\in\\mathbb R^{m\\times v}$的缩放点积注意力是：\n",
    "\n",
    "$$ \\mathrm{softmax}\\left(\\frac{\\mathbf Q \\mathbf K^\\top }{\\sqrt{d}}\\right) \\mathbf V \\in \\mathbb{R}^{n\\times v}.$$\n",
    "\n",
    "下面的缩放点积注意力的实现使用了暂退法进行模型正则化。\n"
   ]
  },
  {
   "cell_type": "code",
   "execution_count": null,
   "id": "b6341847",
   "metadata": {},
   "outputs": [],
   "source": [
    "import math\n",
    "class DotProductAttention(nn.Module): #@save\n",
    "    \"\"\"缩放点积注意力\"\"\"\n",
    "    def __init__(self, dropout, **kwargs):\n",
    "        super(DotProductAttention, self).__init__(**kwargs)\n",
    "        self.dropout = nn.Dropout(dropout)\n",
    "\n",
    "    # queries的形状：(batch_size，查询的个数，d)\n",
    "    # keys的形状：(batch_size，“键－值”对的个数，d)\n",
    "    # values的形状：(batch_size，“键－值”对的个数，值的维度)\n",
    "    # valid_lens的形状:(batch_size，)或者(batch_size，查询的个数)\n",
    "    def forward(self, queries, keys, values, valid_lens=None):\n",
    "        d = queries.shape[-1]\n",
    "        # 设置transpose_b=True为了交换keys的最后两个维度\n",
    "        scores = torch.bmm(queries, keys.transpose(1,2)) / math.sqrt(d)\n",
    "        self.attention_weights = masked_softmax(scores, valid_lens)\n",
    "        return torch.bmm(self.dropout(self.attention_weights), values)"
   ]
  },
  {
   "cell_type": "code",
   "execution_count": null,
   "id": "00523c6c",
   "metadata": {},
   "outputs": [],
   "source": [
    "queries = torch.normal(0, 1, (2, 1, 2))\n",
    "attention = DotProductAttention(dropout=0.5)\n",
    "attention.eval()\n",
    "ans = attention(queries, keys, values, valid_lens)\n",
    "print(ans.shape)"
   ]
  },
  {
   "cell_type": "markdown",
   "id": "994acd81",
   "metadata": {},
   "source": [
    "**这一讲确实有点难理解**"
   ]
  }
 ],
 "metadata": {
  "kernelspec": {
   "display_name": ".venv",
   "language": "python",
   "name": "python3"
  },
  "language_info": {
   "codemirror_mode": {
    "name": "ipython",
    "version": 3
   },
   "file_extension": ".py",
   "mimetype": "text/x-python",
   "name": "python",
   "nbconvert_exporter": "python",
   "pygments_lexer": "ipython3",
   "version": "3.10.12"
  }
 },
 "nbformat": 4,
 "nbformat_minor": 5
}
