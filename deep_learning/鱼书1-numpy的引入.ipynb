{
 "cells": [
  {
   "cell_type": "markdown",
   "id": "8186d779",
   "metadata": {},
   "source": [
    "<strong>numpy的引入-代数运算</strong>"
   ]
  },
  {
   "cell_type": "code",
   "execution_count": 1,
   "id": "22b05fb8",
   "metadata": {},
   "outputs": [],
   "source": [
    "#导入numpy第三方库\n",
    "import numpy as np"
   ]
  },
  {
   "cell_type": "code",
   "execution_count": 3,
   "id": "cb95eb59",
   "metadata": {},
   "outputs": [
    {
     "name": "stdout",
     "output_type": "stream",
     "text": [
      "[1. 2. 3.]\n"
     ]
    },
    {
     "data": {
      "text/plain": [
       "numpy.ndarray"
      ]
     },
     "execution_count": 3,
     "metadata": {},
     "output_type": "execute_result"
    }
   ],
   "source": [
    "#生成numpy数组,可以自指定数据类型\n",
    "a = np.array([1,2,3],dtype = np.float16)\n",
    "print(a)\n",
    "type(a)\n",
    "#发现变量类型为ndarray"
   ]
  },
  {
   "cell_type": "code",
   "execution_count": 4,
   "id": "c037d08d",
   "metadata": {},
   "outputs": [
    {
     "name": "stdout",
     "output_type": "stream",
     "text": [
      "[3 5 7]\n",
      "[-1 -1 -1]\n",
      "[ 2  6 12]\n",
      "[0.5        0.66666667 0.75      ]\n"
     ]
    }
   ],
   "source": [
    "#numpy的算术运算,数组大小一样(当不能广播时)\n",
    "a = np.array([1,2,3])\n",
    "b = np.array([2,3,4])\n",
    "\n",
    "#加减法与矩阵加减一样,但是乘除不一样,只是对应位置的元素进行操作\n",
    "print(a+b)\n",
    "print(a-b)\n",
    "print(a*b)\n",
    "print(a/b)"
   ]
  },
  {
   "cell_type": "code",
   "execution_count": 5,
   "id": "3451838b",
   "metadata": {},
   "outputs": [
    {
     "name": "stdout",
     "output_type": "stream",
     "text": [
      "[16 24 32]\n"
     ]
    }
   ],
   "source": [
    "#numpy的广播作用\n",
    "a = np.array([4,6,8])\n",
    "k = 4\n",
    "print(k*a)\n",
    "\n",
    "#相当于把k = 4自动广播到[4,4,4]"
   ]
  },
  {
   "cell_type": "code",
   "execution_count": 6,
   "id": "5ac4a60e",
   "metadata": {},
   "outputs": [
    {
     "name": "stdout",
     "output_type": "stream",
     "text": [
      "[[1 2]\n",
      " [3 4]]\n",
      "<class 'numpy.ndarray'>\n",
      "int64\n",
      "(2, 2)\n",
      "[[10 20]\n",
      " [30 40]]\n"
     ]
    }
   ],
   "source": [
    "#numpy的N维数组\n",
    "a = np.array([[1,2],[3,4]])\n",
    "\n",
    "print(a)\n",
    "print(type(a))#变量类型\n",
    "print(a.dtype)#数据类型\n",
    "print(a.shape)#数组纬度,即a的形状\n",
    "\n",
    "\n",
    "#高纬度也可以进行广播\n",
    "print(10*a)"
   ]
  },
  {
   "cell_type": "code",
   "execution_count": 7,
   "id": "985bc3c3",
   "metadata": {},
   "outputs": [
    {
     "name": "stdout",
     "output_type": "stream",
     "text": [
      "[[ 3  8]\n",
      " [ 9 16]]\n"
     ]
    }
   ],
   "source": [
    "#广播的拓展\n",
    "#本质是矩阵的自动调整到可以形状相同,以到达进行矩阵运算的目的\n",
    "\n",
    "a = np.array([[1,2],[3,4]])\n",
    "b = np.array([3,4])\n",
    "\n",
    "#b被自动拓展为[[3,4],[3,4]]\n",
    "print(a*b)"
   ]
  },
  {
   "cell_type": "code",
   "execution_count": 8,
   "id": "b30c14bf",
   "metadata": {},
   "outputs": [
    {
     "name": "stdout",
     "output_type": "stream",
     "text": [
      "2\n",
      "5\n",
      "[1 2]\n",
      "[3 4]\n",
      "[5 6]\n"
     ]
    }
   ],
   "source": [
    "#numpy数组的访问\n",
    "a = np.array([[1,2],[3,4],[5,6]])\n",
    "\n",
    "#下标访问:索引从0开始\n",
    "print(a[0][1])\n",
    "print(a[2][0])\n",
    "\n",
    "#循环访问每一行\n",
    "for row in a:\n",
    "    print(row)"
   ]
  },
  {
   "cell_type": "code",
   "execution_count": 9,
   "id": "f661fc66",
   "metadata": {},
   "outputs": [
    {
     "name": "stdout",
     "output_type": "stream",
     "text": [
      "[1 2 3 4 5 6]\n",
      "<class 'numpy.ndarray'>\n",
      "[2 4 6]\n",
      "[[1 2]\n",
      " [5 6]]\n",
      "[False False False  True  True  True]\n",
      "[4 5 6]\n",
      "[4 5 6]\n"
     ]
    }
   ],
   "source": [
    "#numpy展开为一维\n",
    "\n",
    "a = np.array([[1,2],[3,4],[5,6]])\n",
    "flat = a.flatten()\n",
    "print(flat)\n",
    "print(type(flat))\n",
    "\n",
    "#获取索引为1,3,5的元素(要展开后才能这样做,确保不溢出,或者索引小一点)\n",
    "x = flat[np.array([1,3,5])]\n",
    "print(x)\n",
    "\n",
    "x = a[np.array([0,2])]\n",
    "print(x)\n",
    "\n",
    "#常用做法:实现提取满足特定要求的元素\n",
    "choose = flat > 3\n",
    "print(choose)\n",
    "print(flat[choose])\n",
    "\n",
    "#或者更一般\n",
    "print(flat[flat > 3])"
   ]
  },
  {
   "cell_type": "markdown",
   "id": "1de28da7",
   "metadata": {},
   "source": [
    "<strong>numpy的引入-矩阵运算</strong>"
   ]
  },
  {
   "cell_type": "code",
   "execution_count": 10,
   "id": "008d1413",
   "metadata": {},
   "outputs": [],
   "source": [
    "#导入包\n",
    "import numpy as np\n",
    "import matplotlib.pyplot as plt"
   ]
  },
  {
   "cell_type": "code",
   "execution_count": 11,
   "id": "c95d5fa2",
   "metadata": {},
   "outputs": [
    {
     "name": "stdout",
     "output_type": "stream",
     "text": [
      "2\n",
      "(2, 2)\n"
     ]
    }
   ],
   "source": [
    "#多维数组的引入\n",
    "\n",
    "a = np.array([[1,2],[3,4]])\n",
    "\n",
    "print(np.ndim(a))#输出数组纬度\n",
    "print(a.shape)#输出数组形状\n",
    "\n",
    "#一般二维数组被称为矩阵"
   ]
  },
  {
   "cell_type": "code",
   "execution_count": 12,
   "id": "5e9d4e65",
   "metadata": {},
   "outputs": [
    {
     "name": "stdout",
     "output_type": "stream",
     "text": [
      "(2, 2) (2, 2)\n",
      "[[19 22]\n",
      " [43 50]]\n"
     ]
    }
   ],
   "source": [
    "#矩阵的乘法:纬度要对应\n",
    "\n",
    "A = np.array([[1,2],[3,4]])\n",
    "B = np.array([[5,6],[7,8]])\n",
    "print(A.shape,B.shape)\n",
    "\n",
    "ANS = np.dot(A,B)#dot为点的意思,故为点乘,即矩阵乘积\n",
    "print(ANS)"
   ]
  },
  {
   "cell_type": "code",
   "execution_count": 13,
   "id": "cefa270e",
   "metadata": {},
   "outputs": [
    {
     "name": "stdout",
     "output_type": "stream",
     "text": [
      "(3, 2) (2, 2)\n",
      "[[ 5  8]\n",
      " [11 18]\n",
      " [17 28]]\n"
     ]
    }
   ],
   "source": [
    "A = np.array([[1,2],[3,4],[5,6]])\n",
    "B = np.array([[1,2],[2,3]])\n",
    "print(A.shape,B.shape)\n",
    "\n",
    "ANS = np.dot(A,B)\n",
    "print(ANS)"
   ]
  },
  {
   "cell_type": "code",
   "execution_count": 19,
   "id": "485f1032",
   "metadata": {},
   "outputs": [
    {
     "name": "stdout",
     "output_type": "stream",
     "text": [
      "(3, 2) (2,) (3, 1)\n",
      "[ 5 11 17]\n",
      "(3,)\n"
     ]
    },
    {
     "ename": "ValueError",
     "evalue": "shapes (3,1) and (2,) not aligned: 1 (dim 1) != 2 (dim 0)",
     "output_type": "error",
     "traceback": [
      "\u001b[1;31m---------------------------------------------------------------------------\u001b[0m",
      "\u001b[1;31mValueError\u001b[0m                                Traceback (most recent call last)",
      "Cell \u001b[1;32mIn[19], line 15\u001b[0m\n\u001b[0;32m     12\u001b[0m \u001b[38;5;28mprint\u001b[39m(ANS\u001b[38;5;241m.\u001b[39mshape)\n\u001b[0;32m     14\u001b[0m \u001b[38;5;66;03m# 错误用法\u001b[39;00m\n\u001b[1;32m---> 15\u001b[0m ANS \u001b[38;5;241m=\u001b[39m \u001b[43mnp\u001b[49m\u001b[38;5;241;43m.\u001b[39;49m\u001b[43mdot\u001b[49m\u001b[43m(\u001b[49m\u001b[43mC\u001b[49m\u001b[43m,\u001b[49m\u001b[43mB\u001b[49m\u001b[43m)\u001b[49m\n\u001b[0;32m     16\u001b[0m \u001b[38;5;28mprint\u001b[39m(ANS)\n",
      "\u001b[1;31mValueError\u001b[0m: shapes (3,1) and (2,) not aligned: 1 (dim 1) != 2 (dim 0)"
     ]
    }
   ],
   "source": [
    "#只有一个纬度的某个意义上不叫矩阵,但是可以进行计算\n",
    "#另外，当A是二维矩阵、B是一维数组时,对应维度的元素个数要保持一致的原则依然成立\n",
    "\n",
    "A = np.array([[1,2],[3,4],[5,6]])\n",
    "\n",
    "B = np.array([1,2])      #一个纬度一定要匹配纬度,放左边等价于1x2,放右边等于2x1\n",
    "C = np.array([[1],[2],[3]])\n",
    "print(A.shape,B.shape,C.shape)\n",
    "\n",
    "ANS = np.dot(A,B)\n",
    "print(ANS)\n",
    "print(ANS.shape)\n",
    "\n",
    "# 错误用法\n",
    "ANS = np.dot(C,B)\n",
    "print(ANS)\n"
   ]
  },
  {
   "cell_type": "code",
   "execution_count": null,
   "id": "3cd591f9",
   "metadata": {},
   "outputs": [
    {
     "name": "stdout",
     "output_type": "stream",
     "text": [
      "(2,) (2, 3)\n",
      "[14 23 41]\n",
      "(3,)\n"
     ]
    }
   ],
   "source": [
    "#神经网络的内积\n",
    "\n",
    "A = np.array([4,5])\n",
    "B = np.array([[1,2,4],[2,3,5]])\n",
    "\n",
    "print(A.shape,B.shape)\n",
    "\n",
    "ANS = np.dot(A,B)\n",
    "print(ANS)\n",
    "print(ANS.shape)"
   ]
  },
  {
   "cell_type": "code",
   "execution_count": null,
   "id": "13e04e48",
   "metadata": {},
   "outputs": [
    {
     "name": "stdout",
     "output_type": "stream",
     "text": [
      "5 4\n",
      "4 3\n"
     ]
    }
   ],
   "source": [
    "#numpy的最值处理\n",
    "\n",
    "# 一维\n",
    "x = np.array([1,2,3,4,5])\n",
    "maxn = np.max(x) # 获取最大值\n",
    "maxn_index = np.argmax(x) #获取矩阵最大值索引\n",
    "print(maxn,maxn_index)\n",
    "\n",
    "# 多维\n",
    "x = np.array([[1,2],[3,4]])\n",
    "maxn = np.max(x) # 获取最大值\n",
    "maxn_index = np.argmax(x) #获取矩阵最大值索引\n",
    "print(maxn,maxn_index)\n",
    "\n",
    "#发现这样处理自动展开成一维处理了,不是我们想要的"
   ]
  },
  {
   "cell_type": "code",
   "execution_count": null,
   "id": "c6dbe404",
   "metadata": {},
   "outputs": [
    {
     "name": "stdout",
     "output_type": "stream",
     "text": [
      "[2 4] [1 1]\n",
      "[3 7]\n"
     ]
    }
   ],
   "source": [
    "# 特殊处理方法\n",
    "x = np.array([[1,2],[3,4]])\n",
    "maxn = np.max(x,axis = 1)\n",
    "maxn_index = np.argmax(x,axis = 1) #axis = 0表示列,axis = 1表示行\n",
    "print(maxn,maxn_index)\n",
    "\n",
    "#sum也是同理的\n",
    "sum = np.sum(x,axis = 1)\n",
    "print(sum)"
   ]
  },
  {
   "cell_type": "code",
   "execution_count": null,
   "id": "66cc4ccb",
   "metadata": {},
   "outputs": [
    {
     "name": "stdout",
     "output_type": "stream",
     "text": [
      "(5, 5)\n",
      "5\n",
      "25\n"
     ]
    }
   ],
   "source": [
    "# 计算矩阵中元素总数\n",
    "x = np.random.randint(0,5,(5,5))\n",
    "print(x.shape)\n",
    "print(len(x))\n",
    "print(x.size)"
   ]
  }
 ],
 "metadata": {
  "kernelspec": {
   "display_name": "Python 3 (ipykernel)",
   "language": "python",
   "name": "python3"
  },
  "language_info": {
   "codemirror_mode": {
    "name": "ipython",
    "version": 3
   },
   "file_extension": ".py",
   "mimetype": "text/x-python",
   "name": "python",
   "nbconvert_exporter": "python",
   "pygments_lexer": "ipython3",
   "version": "3.12.1"
  }
 },
 "nbformat": 4,
 "nbformat_minor": 5
}
