{
 "cells": [
  {
   "cell_type": "markdown",
   "metadata": {},
   "source": [
    "$ x_0 = x_0 - \\eta \\dfrac{\\partial f}{\\partial x_0} $\n",
    "\n",
    "$ x_1 = x_1 - \\eta \\dfrac{\\partial f}{\\partial x_1} $\n",
    "\n",
    "$ \\bf x $"
   ]
  },
  {
   "cell_type": "markdown",
   "metadata": {},
   "source": [
    "$ W = \\begin{pmatrix} \n",
    "w_{11} & w_{12} & w_{13} \\\\\n",
    "w_{21} & w_{22} & w_{23} \\\\\n",
    "\\end {pmatrix} $"
   ]
  },
  {
   "cell_type": "markdown",
   "metadata": {},
   "source": [
    "$ \\dfrac {\\partial L}{\\partial W} = \n",
    "\\begin{pmatrix}\n",
    "\\dfrac {\\partial L}{\\partial w_{11}} & \\dfrac {\\partial L}{\\partial w_{12}} & \\dfrac {\\partial L}{\\partial w_{13}}\\\\\n",
    "\\ &  & \\\\\n",
    "\\dfrac {\\partial L}{\\partial w_{21}} & \\dfrac {\\partial L}{\\partial w_{22}} & \\dfrac {\\partial L}{\\partial w_{23}}\\\\\n",
    "\\end{pmatrix} $"
   ]
  },
  {
   "cell_type": "markdown",
   "metadata": {},
   "source": []
  }
 ],
 "metadata": {
  "kernelspec": {
   "display_name": "my_cv_env",
   "language": "python",
   "name": "python3"
  },
  "language_info": {
   "name": "python",
   "version": "3.12.1"
  }
 },
 "nbformat": 4,
 "nbformat_minor": 2
}
