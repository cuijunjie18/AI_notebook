{
 "cells": [
  {
   "cell_type": "markdown",
   "metadata": {},
   "source": [
    "<strong>感知机其实是一种算法</strong><br>作为神经网络（深度学习）的起源的算法"
   ]
  },
  {
   "cell_type": "markdown",
   "metadata": {},
   "source": [
    "##### **以感知机理解机器学习**\n",
    "\n",
    "比如逻辑门电路,例如**x&y**,实际上就是找**两个权重参数w1,w2**,使得**x * w1 + y * w2 + b** (其中b为偏置数,或者叫阈值)满足与门的真值表  \n",
    "只不过我们把找权重参数的任务交给了机器"
   ]
  },
  {
   "cell_type": "code",
   "execution_count": 1,
   "metadata": {},
   "outputs": [],
   "source": [
    "#导入包\n",
    "import numpy as np"
   ]
  },
  {
   "cell_type": "code",
   "execution_count": 4,
   "metadata": {},
   "outputs": [
    {
     "name": "stdout",
     "output_type": "stream",
     "text": [
      "0&0 = 0\n",
      "0&1 = 0\n",
      "1&0 = 0\n",
      "1&1 = 1\n"
     ]
    }
   ],
   "source": [
    "#感知机的简单实现\n",
    "\n",
    "#与门模拟\n",
    "def AND(x,y):\n",
    "    w1,w2,thresh = 0.5,0.5,0.7\n",
    "    temp = x*w1 + y*w2\n",
    "    if(temp >= thresh):\n",
    "        return 1\n",
    "    else:\n",
    "        return 0\n",
    "    \n",
    "print(f\"0&0 = {AND(0,0)}\")\n",
    "print(f\"0&1 = {AND(0,1)}\")\n",
    "print(f\"1&0 = {AND(1,0)}\")\n",
    "print(f\"1&1 = {AND(1,1)}\")\n",
    "\n",
    "#可以发现,上面的权重参数及阈值满足与门的真值表,所以是一个合适的,但是是人为规定的,机器学习需要做的就是找到它！\n"
   ]
  },
  {
   "cell_type": "code",
   "execution_count": 4,
   "metadata": {},
   "outputs": [
    {
     "name": "stdout",
     "output_type": "stream",
     "text": [
      "0&0 = 0\n",
      "0&1 = 0\n",
      "1&0 = 0\n",
      "1&1 = 1\n"
     ]
    }
   ],
   "source": [
    "#实际上更多时候是这样的\n",
    "#与门\n",
    "def AND(x1, x2):\n",
    "    x = np.array([x1, x2])\n",
    "    w = np.array([0.5, 0.5])\n",
    "    b = -0.7\n",
    "    tmp = np.sum(w*x) + b#矩阵运算加偏置\n",
    "    if tmp <= 0:\n",
    "        return 0\n",
    "    else:\n",
    "        return 1\n",
    "    \n",
    "print(f\"0&0 = {AND(0,0)}\")\n",
    "print(f\"0&1 = {AND(0,1)}\")\n",
    "print(f\"1&0 = {AND(1,0)}\")\n",
    "print(f\"1&1 = {AND(1,1)}\")\n"
   ]
  },
  {
   "cell_type": "code",
   "execution_count": 5,
   "metadata": {},
   "outputs": [
    {
     "name": "stdout",
     "output_type": "stream",
     "text": [
      "0&0 = 1\n",
      "0&1 = 1\n",
      "1&0 = 1\n",
      "1&1 = 0\n"
     ]
    }
   ],
   "source": [
    "#与非门\n",
    "def NAND(x1,x2):\n",
    "    x = np.array([x1,x2])\n",
    "    w = np.array([-0.5,-0.5])#非直接权重取反即可\n",
    "    b = 0.7#偏置也要取反\n",
    "    tmp = np.sum(x*w) + b\n",
    "    if tmp > 0:\n",
    "        return 1\n",
    "    else:\n",
    "        return 0\n",
    "    \n",
    "print(f\"!(0&0) = {NAND(0,0)}\")\n",
    "print(f\"!(0&1) = {NAND(0,1)}\")\n",
    "print(f\"!(1&0) = {NAND(1,0)}\")\n",
    "print(f\"!(1&1) = {NAND(1,1)}\")\n"
   ]
  },
  {
   "cell_type": "code",
   "execution_count": 7,
   "metadata": {},
   "outputs": [
    {
     "name": "stdout",
     "output_type": "stream",
     "text": [
      "0|0 = 0\n",
      "0|1 = 1\n",
      "1|0 = 1\n",
      "1|1 = 1\n"
     ]
    }
   ],
   "source": [
    "#或门\n",
    "def OR(x1,x2):\n",
    "    x = np.array([x1,x2])\n",
    "    w = np.array([0.5,0.5])\n",
    "    b = -0.2\n",
    "    tmp = np.sum(x*w) + b\n",
    "    if tmp > 0:\n",
    "        return 1\n",
    "    else:\n",
    "        return 0\n",
    "    \n",
    "print(f\"0|0 = {OR(0,0)}\")\n",
    "print(f\"0|1 = {OR(0,1)}\")\n",
    "print(f\"1|0 = {OR(1,0)}\")\n",
    "print(f\"1|1 = {OR(1,1)}\")\n"
   ]
  },
  {
   "cell_type": "markdown",
   "metadata": {},
   "source": [
    "<strong>感知机可以实现与门、与非门、或门三种逻辑电路,也仅三个,这是感知机的局限</strong><br>\n",
    "接下来便引入多层感知机的概念"
   ]
  },
  {
   "cell_type": "code",
   "execution_count": 8,
   "metadata": {},
   "outputs": [
    {
     "name": "stdout",
     "output_type": "stream",
     "text": [
      "0x|0 = 0\n",
      "0x|1 = 1\n",
      "1x|0 = 1\n",
      "1x|1 = 0\n"
     ]
    }
   ],
   "source": [
    "#异或门\n",
    "#x1 xor x2 = x1&(!x2) or (!x1)&x2 = (x1|x2)&[!(x1&x2)]\n",
    "#或者同或取反\n",
    "\n",
    "def XOR(x1,x2):\n",
    "    s1 = NAND(x1,x2)\n",
    "    s2 = OR(x1,x2)\n",
    "    y = AND(s1,s2)\n",
    "    return y\n",
    "\n",
    "print(f\"0x|0 = {XOR(0,0)}\")\n",
    "print(f\"0x|1 = {XOR(0,1)}\")\n",
    "print(f\"1x|0 = {XOR(1,0)}\")\n",
    "print(f\"1x|1 = {XOR(1,1)}\")\n",
    "\n",
    "#显然异或门为2层感知机"
   ]
  },
  {
   "cell_type": "markdown",
   "metadata": {},
   "source": [
    "<strong>结论:多层感知机（在理论上）可以表示计算机</strong>"
   ]
  }
 ],
 "metadata": {
  "kernelspec": {
   "display_name": "my_cv_env",
   "language": "python",
   "name": "python3"
  },
  "language_info": {
   "codemirror_mode": {
    "name": "ipython",
    "version": 3
   },
   "file_extension": ".py",
   "mimetype": "text/x-python",
   "name": "python",
   "nbconvert_exporter": "python",
   "pygments_lexer": "ipython3",
   "version": "3.12.1"
  }
 },
 "nbformat": 4,
 "nbformat_minor": 2
}
