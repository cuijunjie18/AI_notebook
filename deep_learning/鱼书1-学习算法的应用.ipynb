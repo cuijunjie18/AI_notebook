{
 "cells": [
  {
   "cell_type": "markdown",
   "metadata": {},
   "source": [
    "### **本节将前面神经网络的理论进行应用**\n",
    "\n",
    "\n",
    "由前面知道学习算法的**基本流程**为： \n",
    "\n",
    "**前提**  \n",
    "神经网络存在合适的权重和偏置，**调整权重和偏置**以便拟合训练数据的  \n",
    "过程称为“学习”。神经网络的学习分成下面**4个步骤**。  \n",
    "\n",
    "**步骤1（mini-batch）**  \n",
    "(推荐自己框架的所有函数应该兼容批处理)  \n",
    "从训练数据中随机选出一部分数据，这部分数据称为**mini-batch**。我们  \n",
    "的目标是**减小mini-batch的损失函数的值**。\n",
    "\n",
    "**步骤2（计算梯度）**  \n",
    "为了减小mini-batch的损失函数的值，需要求出各个权重参数的梯度。\n",
    "梯度表示损失函数的值减小最多的方向。\n",
    "\n",
    "**步骤3（更新参数）**  \n",
    "将权重参数沿梯度方向进行微小更新\n",
    "\n",
    "**步骤4（重复）**  \n",
    "重复步骤1、步骤2、步骤3\n",
    "\n",
    "***"
   ]
  },
  {
   "cell_type": "markdown",
   "metadata": {},
   "source": [
    "**应用一：两层神经网络的类**"
   ]
  },
  {
   "cell_type": "code",
   "execution_count": 9,
   "metadata": {},
   "outputs": [],
   "source": [
    "# 导入必要包及框架\n",
    "import numpy as np\n",
    "import my_frame as mf\n",
    "import gradient as gd # 导入作者的梯度法\n",
    "from mnist import load_mnist # 导入数据集加载函数\n",
    "\n",
    "class TwoLayerNet:\n",
    "    \"\"\"两层神经网络\"\"\"\n",
    "\n",
    "    def __init__(self,input_size,hidden_size,output_size,\n",
    "                 weight_init_std = 0.01):\n",
    "        \"\"\"神经网络初始化,weight_init_std为我目前未知参数\"\"\"\n",
    "\n",
    "        self.params = {} # 将网络以字典形式存储\n",
    "\n",
    "        # 随机生成权重矩阵，对偏置矩阵置零\n",
    "        self.params['W1'] = weight_init_std* \\\n",
    "            np.random.randn(input_size,hidden_size)\n",
    "        self.params['b1'] = np.zeros(hidden_size)\n",
    "        self.params['W2'] = weight_init_std* \\\n",
    "            np.random.randn(hidden_size,output_size)\n",
    "        self.params['b2'] = np.zeros(output_size)\n",
    "\n",
    "    def predict(self,x):\n",
    "        \"\"\"神经网络的推理过程,又称前向传播; x为输入矩阵\"\"\"\n",
    "\n",
    "        # 获取权重及偏置矩阵\n",
    "        W1,W2 = self.params['W1'],self.params['W2']\n",
    "        b1,b2 = self.params['b1'],self.params['b2']\n",
    "\n",
    "        # 前向传播\n",
    "        a1 = np.dot(x,W1) + b1\n",
    "        z1 = mf.sigmoid(a1)\n",
    "        a2 = np.dot(z1,W2) + b2\n",
    "        y = mf.softmax(a2)\n",
    "\n",
    "        return y\n",
    "    \n",
    "    def loss(self,x,t):\n",
    "        \"\"\"神经网络的损失函数计算;x为输入矩阵,t为监督数据矩阵\"\"\"\n",
    "\n",
    "        y = self.predict(x) # 调用推理模块\n",
    "        return mf.cross_entropy_error(y,t) # 计算交叉熵损失值\n",
    "    \n",
    "    def accuracy(self,x,t):\n",
    "        \"\"\"估计识别精度;x为输入矩阵,t为监督数据矩阵(兼容one_hot与非one_hot)\"\"\"\n",
    "\n",
    "        y = self.predict(x)\n",
    "        y = np.argmax(y,axis = 1) # 仅取每个图像的最大可能的结果\n",
    "        if t.size != y.size: # 如果是one_hot格式的（注意size的用法）\n",
    "            t = np.argmax(t,axis = 1)\n",
    "        \n",
    "        accuracy = np.sum(y == t)/float(x.shape[0]) # 计算识别精度\n",
    "        return accuracy\n",
    "    \n",
    "    def numerical_gradient(self,x,t):\n",
    "        \"\"\"计算权重矩阵及偏置矩阵的梯度;x为输入矩阵,t为监督数据矩阵\"\"\"\n",
    "\n",
    "        loss_W = lambda W:self.loss(x,t) # 简化函数定义\n",
    "\n",
    "        grads = {} # 为与params对应，梯度也用字典形式存储\n",
    "        # grads['W1'] = mf.numerical_gradient_2d() 我的数值微分梯度法太慢，为加快效率采用误差反向传播法，还不会\n",
    "        # 仍采用数值微分法，不过是作者的改进过的了\n",
    "        grads['W1'] = gd.numerical_gradient(loss_W,self.params['W1'])\n",
    "        grads['b1'] = gd.numerical_gradient(loss_W,self.params['b1'])\n",
    "        grads['W2'] = gd.numerical_gradient(loss_W,self.params['W2'])\n",
    "        grads['b2'] = gd.numerical_gradient(loss_W,self.params['b2'])\n",
    "\n",
    "        return grads\n"
   ]
  },
  {
   "cell_type": "markdown",
   "metadata": {},
   "source": [
    "**应用二：基于MNIST手写数字数据集的mini-batch的实现**"
   ]
  },
  {
   "cell_type": "code",
   "execution_count": 15,
   "metadata": {},
   "outputs": [
    {
     "data": {
      "image/png": "[encoded data removed]",
      "text/plain": [
       "<Figure size 640x480 with 1 Axes>"
      ]
     },
     "metadata": {},
     "output_type": "display_data"
    }
   ],
   "source": [
    "import matplotlib.pyplot as plt # 再导入一个绘图库\n",
    "\n",
    "# 加载数据集\n",
    "(x_train,t_train),(x_test,t_test) = load_mnist(flatten = True,one_hot_label = True)\n",
    "\n",
    "# 设置超参数\n",
    "iters_num = 10 # mini-batch迭代次数\n",
    "train_size = x_train.shape[0]\n",
    "batch_size = 100 # 定义batch为100\n",
    "learning_rate = 0.1 # 梯度下降算法的学习速率\n",
    "network = TwoLayerNet(input_size = 784,hidden_size = 50,output_size = 10) # 隐藏层大小设置合适的\n",
    "\n",
    "# 学习过程记录列表\n",
    "train_loss_list = []\n",
    "\n",
    "# 利用训练集进行学习\n",
    "for i in range(iters_num):\n",
    "    # 根据batch_size获取batch\n",
    "    batch_mask = np.random.choice(train_size,batch_size)\n",
    "    x_batch = x_train[batch_mask]\n",
    "    t_batch = t_train[batch_mask]\n",
    "\n",
    "    # 计算梯度\n",
    "    grads = network.numerical_gradient(x_batch,t_batch)\n",
    "    # grad = network.gradient(x_batch, t_batch) # 高速版!(误差反向传播法)\n",
    "\n",
    "    # 更新参数\n",
    "    for key in ('W1','b1','W2','b2'):\n",
    "        network.params[key] -= learning_rate*grads[key]\n",
    "\n",
    "    # 记录学习过程\n",
    "    loss = network.loss(x_batch,t_batch)\n",
    "    train_loss_list.append(loss)\n",
    "    print(f\"{i+1}th finish!\")\n",
    "\n",
    "x_list = np.arange(1,iters_num+1,1)\n",
    "plt.plot(x_list,train_loss_list,label = 'Loss')\n",
    "plt.legend()\n",
    "plt.show()\n"
   ]
  },
  {
   "cell_type": "markdown",
   "metadata": {},
   "source": [
    "可以发现随着学习的进行，**损失函数的值在不断减小**。这是学习**正常进行**的信号，表示神经网络的**权重参数在逐渐拟合数据**。  \n",
    "也就是说，神经网络的确在**学习**！通过反复地向它浇灌（输入）数据，神经网络正在逐渐向最优参数靠近。\n",
    "\n",
    "***"
   ]
  },
  {
   "cell_type": "markdown",
   "metadata": {},
   "source": [
    "**应用三：基于测试数据的评价**\n",
    "\n",
    "神经网络学习的**最初目标是掌握泛化能力**，因此，要评价神经网络的**泛化能力**，就必须使用不包含在训练数据中的数据。  \n",
    "下面的代码在进行学习的过程中，会定期地对训练数据和测试数据记录识别精度。  \n",
    "这里，每经过一个**epoch**，我们都会记录下训练数据和测试数据的识别精度。 \n",
    "\n",
    "注：**epoch**是一个单位。一个 epoch表示学习中所有训练数据均被使用过  \n",
    "一次时的更新次数。比如，对于 10000笔训练数据，用大小为 100  \n",
    "笔数据的mini-batch进行学习时，重复随机梯度下降法 100次，所  \n",
    "有的训练数据就都被“看过”了。此时，100次就是一个 epoch。  "
   ]
  },
  {
   "cell_type": "code",
   "execution_count": 15,
   "metadata": {},
   "outputs": [
    {
     "name": "stdout",
     "output_type": "stream",
     "text": [
      "1th finish!\n",
      "2th finish!\n",
      "3th finish!\n",
      "4th finish!\n",
      "5th finish!\n",
      "6th finish!\n",
      "7th finish!\n",
      "8th finish!\n",
      "9th finish!\n",
      "10th finish!\n"
     ]
    },
    {
     "data": {
      "image/png": "[encoded data removed]",
      "text/plain": [
       "<Figure size 640x480 with 1 Axes>"
      ]
     },
     "metadata": {},
     "output_type": "display_data"
    }
   ],
   "source": [
    "import matplotlib.pyplot as plt # 再导入一个绘图库\n",
    "\n",
    "# 重新加载数据集\n",
    "(x_train,t_train),(x_test,t_test) = load_mnist(flatten = True,one_hot_label = True)\n",
    "\n",
    "# 绘图用到的列表，展示性能\n",
    "train_loss_list = []\n",
    "train_acc_list = []\n",
    "test_acc_list = []\n",
    "\n",
    "# 设置超参数\n",
    "iters_num = 10\n",
    "batch_size = 100\n",
    "learning_rate = 0.1\n",
    "\n",
    "# 平均每个epoch的重复次数\n",
    "train_size = x_train.shape[0]\n",
    "iter_per_epoch = max(train_size/batch_size,1)\n",
    "\n",
    "# 初始化神经网络\n",
    "network = TwoLayerNet(input_size = 784,hidden_size = 50,output_size = 10)\n",
    "\n",
    "for i in range(iters_num):\n",
    "\n",
    "    # 获取mini-batch\n",
    "    batch_mask = np.random.choice(train_size,batch_size)\n",
    "    x_batch = x_train[batch_mask]\n",
    "    t_batch = t_train[batch_mask]\n",
    "\n",
    "    # 计算梯度\n",
    "    grads = network.numerical_gradient(x_batch,t_batch)\n",
    "\n",
    "    # 更新参数\n",
    "    for key in ('W1','b1','W2','b2'):\n",
    "        network.params[key] -= learning_rate*grads[key]\n",
    "        \n",
    "    # 计算损失值\n",
    "    # loss = network.loss(x_batch,t_batch)\n",
    "    # train_loss_list.append(loss)\n",
    "\n",
    "    # 计算每个epoch的识别精度\n",
    "    if i%iter_per_epoch == 0 or True:\n",
    "        train_acc_list.append(network.accuracy(x_train,t_train))\n",
    "        test_acc_list.append(network.accuracy(x_test,t_test))\n",
    "    print(f\"{i+1}th finish!\")\n",
    "\n",
    "x_list = np.arange(1,len(train_acc_list)+1,1)\n",
    "plt.plot(x_list,train_acc_list,label = 'Train_acc')\n",
    "plt.plot(x_list,test_acc_list,label = 'Test_acc')\n",
    "plt.legend()\n",
    "plt.show()"
   ]
  },
  {
   "cell_type": "markdown",
   "metadata": {},
   "source": [
    "结论：我们发现使用训练数据和测试数据评价的识别精度都提高了，  \n",
    "并且，这两个识别精度基本上没有差异（两条线基本重叠在一起）。   \n",
    "因此，可以说这次的学习中**没有发生过拟合**的现象。 "
   ]
  }
 ],
 "metadata": {
  "kernelspec": {
   "display_name": "my_cv_env",
   "language": "python",
   "name": "python3"
  },
  "language_info": {
   "codemirror_mode": {
    "name": "ipython",
    "version": 3
   },
   "file_extension": ".py",
   "mimetype": "text/x-python",
   "name": "python",
   "nbconvert_exporter": "python",
   "pygments_lexer": "ipython3",
   "version": "3.12.1"
  }
 },
 "nbformat": 4,
 "nbformat_minor": 2
}
